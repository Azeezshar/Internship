{
 "cells": [
  {
   "cell_type": "markdown",
   "id": "d2d884ea",
   "metadata": {},
   "source": [
    "# Importing Important Libraries"
   ]
  },
  {
   "cell_type": "code",
   "execution_count": 1,
   "id": "fd48d3a9",
   "metadata": {},
   "outputs": [],
   "source": [
    "import pandas as pd\n",
    "import numpy as np\n",
    "import seaborn as sns\n",
    "import matplotlib.pyplot as plt\n",
    "import warnings\n",
    "warnings.filterwarnings('ignore')"
   ]
  },
  {
   "cell_type": "markdown",
   "id": "365dfad1",
   "metadata": {},
   "source": [
    "# Importing the Dataset"
   ]
  },
  {
   "cell_type": "code",
   "execution_count": 2,
   "id": "4b9f788e",
   "metadata": {},
   "outputs": [
    {
     "data": {
      "text/html": [
       "<div>\n",
       "<style scoped>\n",
       "    .dataframe tbody tr th:only-of-type {\n",
       "        vertical-align: middle;\n",
       "    }\n",
       "\n",
       "    .dataframe tbody tr th {\n",
       "        vertical-align: top;\n",
       "    }\n",
       "\n",
       "    .dataframe thead th {\n",
       "        text-align: right;\n",
       "    }\n",
       "</style>\n",
       "<table border=\"1\" class=\"dataframe\">\n",
       "  <thead>\n",
       "    <tr style=\"text-align: right;\">\n",
       "      <th></th>\n",
       "      <th>age</th>\n",
       "      <th>sex</th>\n",
       "      <th>bmi</th>\n",
       "      <th>children</th>\n",
       "      <th>smoker</th>\n",
       "      <th>region</th>\n",
       "      <th>charges</th>\n",
       "    </tr>\n",
       "  </thead>\n",
       "  <tbody>\n",
       "    <tr>\n",
       "      <th>0</th>\n",
       "      <td>19</td>\n",
       "      <td>female</td>\n",
       "      <td>27.900</td>\n",
       "      <td>0</td>\n",
       "      <td>yes</td>\n",
       "      <td>southwest</td>\n",
       "      <td>16884.92400</td>\n",
       "    </tr>\n",
       "    <tr>\n",
       "      <th>1</th>\n",
       "      <td>18</td>\n",
       "      <td>male</td>\n",
       "      <td>33.770</td>\n",
       "      <td>1</td>\n",
       "      <td>no</td>\n",
       "      <td>southeast</td>\n",
       "      <td>1725.55230</td>\n",
       "    </tr>\n",
       "    <tr>\n",
       "      <th>2</th>\n",
       "      <td>28</td>\n",
       "      <td>male</td>\n",
       "      <td>33.000</td>\n",
       "      <td>3</td>\n",
       "      <td>no</td>\n",
       "      <td>southeast</td>\n",
       "      <td>4449.46200</td>\n",
       "    </tr>\n",
       "    <tr>\n",
       "      <th>3</th>\n",
       "      <td>33</td>\n",
       "      <td>male</td>\n",
       "      <td>22.705</td>\n",
       "      <td>0</td>\n",
       "      <td>no</td>\n",
       "      <td>northwest</td>\n",
       "      <td>21984.47061</td>\n",
       "    </tr>\n",
       "    <tr>\n",
       "      <th>4</th>\n",
       "      <td>32</td>\n",
       "      <td>male</td>\n",
       "      <td>28.880</td>\n",
       "      <td>0</td>\n",
       "      <td>no</td>\n",
       "      <td>northwest</td>\n",
       "      <td>3866.85520</td>\n",
       "    </tr>\n",
       "  </tbody>\n",
       "</table>\n",
       "</div>"
      ],
      "text/plain": [
       "   age     sex     bmi  children smoker     region      charges\n",
       "0   19  female  27.900         0    yes  southwest  16884.92400\n",
       "1   18    male  33.770         1     no  southeast   1725.55230\n",
       "2   28    male  33.000         3     no  southeast   4449.46200\n",
       "3   33    male  22.705         0     no  northwest  21984.47061\n",
       "4   32    male  28.880         0     no  northwest   3866.85520"
      ]
     },
     "execution_count": 2,
     "metadata": {},
     "output_type": "execute_result"
    }
   ],
   "source": [
    "df=pd.read_csv('medical_cost_insurance.csv')\n",
    "df.head()"
   ]
  },
  {
   "cell_type": "markdown",
   "id": "de2e8836",
   "metadata": {},
   "source": [
    "# Exploratory Data Analysis(EDA)"
   ]
  },
  {
   "cell_type": "code",
   "execution_count": 3,
   "id": "42f3e9a9",
   "metadata": {},
   "outputs": [
    {
     "data": {
      "text/plain": [
       "(1338, 7)"
      ]
     },
     "execution_count": 3,
     "metadata": {},
     "output_type": "execute_result"
    }
   ],
   "source": [
    "# checking the shape of the dataset \n",
    "df.shape"
   ]
  },
  {
   "cell_type": "markdown",
   "id": "67ed023b",
   "metadata": {},
   "source": [
    "The dataset contains 1338 rows and 7 columns"
   ]
  },
  {
   "cell_type": "code",
   "execution_count": 4,
   "id": "e08a0a48",
   "metadata": {},
   "outputs": [
    {
     "data": {
      "text/plain": [
       "Index(['age', 'sex', 'bmi', 'children', 'smoker', 'region', 'charges'], dtype='object')"
      ]
     },
     "execution_count": 4,
     "metadata": {},
     "output_type": "execute_result"
    }
   ],
   "source": [
    "# checking the column names \n",
    "df.columns"
   ]
  },
  {
   "cell_type": "code",
   "execution_count": 5,
   "id": "5ca299b4",
   "metadata": {},
   "outputs": [
    {
     "data": {
      "text/plain": [
       "age           int64\n",
       "sex          object\n",
       "bmi         float64\n",
       "children      int64\n",
       "smoker       object\n",
       "region       object\n",
       "charges     float64\n",
       "dtype: object"
      ]
     },
     "execution_count": 5,
     "metadata": {},
     "output_type": "execute_result"
    }
   ],
   "source": [
    "# checking the dtypes of the dataset \n",
    "df.dtypes"
   ]
  },
  {
   "cell_type": "markdown",
   "id": "1b37a3b3",
   "metadata": {},
   "source": [
    "We have 2 int64 type data, 2 float64 type data and 3 object type data."
   ]
  },
  {
   "cell_type": "markdown",
   "id": "867fce8d",
   "metadata": {},
   "source": [
    "Checking for unique and nunique values in the object type data."
   ]
  },
  {
   "cell_type": "code",
   "execution_count": 6,
   "id": "0c9b60bf",
   "metadata": {},
   "outputs": [
    {
     "data": {
      "text/plain": [
       "array(['female', 'male'], dtype=object)"
      ]
     },
     "execution_count": 6,
     "metadata": {},
     "output_type": "execute_result"
    }
   ],
   "source": [
    "df['sex'].unique()"
   ]
  },
  {
   "cell_type": "code",
   "execution_count": 7,
   "id": "10bbdadb",
   "metadata": {},
   "outputs": [
    {
     "data": {
      "text/plain": [
       "array(['yes', 'no'], dtype=object)"
      ]
     },
     "execution_count": 7,
     "metadata": {},
     "output_type": "execute_result"
    }
   ],
   "source": [
    "df['smoker'].unique()"
   ]
  },
  {
   "cell_type": "code",
   "execution_count": 8,
   "id": "f84080a9",
   "metadata": {},
   "outputs": [
    {
     "data": {
      "text/plain": [
       "array(['southwest', 'southeast', 'northwest', 'northeast'], dtype=object)"
      ]
     },
     "execution_count": 8,
     "metadata": {},
     "output_type": "execute_result"
    }
   ],
   "source": [
    "df['region'].unique()"
   ]
  },
  {
   "cell_type": "code",
   "execution_count": 9,
   "id": "ee6c06f1",
   "metadata": {},
   "outputs": [
    {
     "name": "stdout",
     "output_type": "stream",
     "text": [
      "2\n",
      "2\n",
      "4\n"
     ]
    }
   ],
   "source": [
    "print(df['sex'].nunique())\n",
    "print(df['smoker'].nunique())\n",
    "print(df['region'].nunique())"
   ]
  },
  {
   "cell_type": "code",
   "execution_count": 10,
   "id": "c71efb95",
   "metadata": {},
   "outputs": [
    {
     "data": {
      "text/plain": [
       "age           47\n",
       "sex            2\n",
       "bmi          548\n",
       "children       6\n",
       "smoker         2\n",
       "region         4\n",
       "charges     1337\n",
       "dtype: int64"
      ]
     },
     "execution_count": 10,
     "metadata": {},
     "output_type": "execute_result"
    }
   ],
   "source": [
    "#checking the nunique values in the all columns\n",
    "df.nunique()"
   ]
  },
  {
   "cell_type": "code",
   "execution_count": 11,
   "id": "a3beae83",
   "metadata": {},
   "outputs": [
    {
     "name": "stdout",
     "output_type": "stream",
     "text": [
      "<class 'pandas.core.frame.DataFrame'>\n",
      "RangeIndex: 1338 entries, 0 to 1337\n",
      "Data columns (total 7 columns):\n",
      " #   Column    Non-Null Count  Dtype  \n",
      "---  ------    --------------  -----  \n",
      " 0   age       1338 non-null   int64  \n",
      " 1   sex       1338 non-null   object \n",
      " 2   bmi       1338 non-null   float64\n",
      " 3   children  1338 non-null   int64  \n",
      " 4   smoker    1338 non-null   object \n",
      " 5   region    1338 non-null   object \n",
      " 6   charges   1338 non-null   float64\n",
      "dtypes: float64(2), int64(2), object(3)\n",
      "memory usage: 73.3+ KB\n"
     ]
    },
    {
     "data": {
      "text/plain": [
       "<AxesSubplot:>"
      ]
     },
     "execution_count": 11,
     "metadata": {},
     "output_type": "execute_result"
    },
    {
     "data": {
      "image/png": "[encoded data removed]",
      "text/plain": [
       "<Figure size 432x288 with 2 Axes>"
      ]
     },
     "metadata": {
      "needs_background": "light"
     },
     "output_type": "display_data"
    }
   ],
   "source": [
    "#checking for null values through heatmap and info function\n",
    "df.info()\n",
    "\n",
    "sns.heatmap(df.isnull())"
   ]
  },
  {
   "cell_type": "markdown",
   "id": "1ecc6749",
   "metadata": {},
   "source": [
    "We can see from the above there are no null values present in the dataset."
   ]
  },
  {
   "cell_type": "code",
   "execution_count": 12,
   "id": "81bcac8f",
   "metadata": {},
   "outputs": [
    {
     "data": {
      "text/html": [
       "<div>\n",
       "<style scoped>\n",
       "    .dataframe tbody tr th:only-of-type {\n",
       "        vertical-align: middle;\n",
       "    }\n",
       "\n",
       "    .dataframe tbody tr th {\n",
       "        vertical-align: top;\n",
       "    }\n",
       "\n",
       "    .dataframe thead th {\n",
       "        text-align: right;\n",
       "    }\n",
       "</style>\n",
       "<table border=\"1\" class=\"dataframe\">\n",
       "  <thead>\n",
       "    <tr style=\"text-align: right;\">\n",
       "      <th></th>\n",
       "      <th>age</th>\n",
       "      <th>bmi</th>\n",
       "      <th>children</th>\n",
       "      <th>charges</th>\n",
       "    </tr>\n",
       "  </thead>\n",
       "  <tbody>\n",
       "    <tr>\n",
       "      <th>count</th>\n",
       "      <td>1338.000000</td>\n",
       "      <td>1338.000000</td>\n",
       "      <td>1338.000000</td>\n",
       "      <td>1338.000000</td>\n",
       "    </tr>\n",
       "    <tr>\n",
       "      <th>mean</th>\n",
       "      <td>39.207025</td>\n",
       "      <td>30.663397</td>\n",
       "      <td>1.094918</td>\n",
       "      <td>13270.422265</td>\n",
       "    </tr>\n",
       "    <tr>\n",
       "      <th>std</th>\n",
       "      <td>14.049960</td>\n",
       "      <td>6.098187</td>\n",
       "      <td>1.205493</td>\n",
       "      <td>12110.011237</td>\n",
       "    </tr>\n",
       "    <tr>\n",
       "      <th>min</th>\n",
       "      <td>18.000000</td>\n",
       "      <td>15.960000</td>\n",
       "      <td>0.000000</td>\n",
       "      <td>1121.873900</td>\n",
       "    </tr>\n",
       "    <tr>\n",
       "      <th>25%</th>\n",
       "      <td>27.000000</td>\n",
       "      <td>26.296250</td>\n",
       "      <td>0.000000</td>\n",
       "      <td>4740.287150</td>\n",
       "    </tr>\n",
       "    <tr>\n",
       "      <th>50%</th>\n",
       "      <td>39.000000</td>\n",
       "      <td>30.400000</td>\n",
       "      <td>1.000000</td>\n",
       "      <td>9382.033000</td>\n",
       "    </tr>\n",
       "    <tr>\n",
       "      <th>75%</th>\n",
       "      <td>51.000000</td>\n",
       "      <td>34.693750</td>\n",
       "      <td>2.000000</td>\n",
       "      <td>16639.912515</td>\n",
       "    </tr>\n",
       "    <tr>\n",
       "      <th>max</th>\n",
       "      <td>64.000000</td>\n",
       "      <td>53.130000</td>\n",
       "      <td>5.000000</td>\n",
       "      <td>63770.428010</td>\n",
       "    </tr>\n",
       "  </tbody>\n",
       "</table>\n",
       "</div>"
      ],
      "text/plain": [
       "               age          bmi     children       charges\n",
       "count  1338.000000  1338.000000  1338.000000   1338.000000\n",
       "mean     39.207025    30.663397     1.094918  13270.422265\n",
       "std      14.049960     6.098187     1.205493  12110.011237\n",
       "min      18.000000    15.960000     0.000000   1121.873900\n",
       "25%      27.000000    26.296250     0.000000   4740.287150\n",
       "50%      39.000000    30.400000     1.000000   9382.033000\n",
       "75%      51.000000    34.693750     2.000000  16639.912515\n",
       "max      64.000000    53.130000     5.000000  63770.428010"
      ]
     },
     "execution_count": 12,
     "metadata": {},
     "output_type": "execute_result"
    }
   ],
   "source": [
    "df.describe()"
   ]
  },
  {
   "cell_type": "markdown",
   "id": "39811bf0",
   "metadata": {},
   "source": [
    "Observations:\n",
    "1. The mean and 50%(median) are almost the same for age, bmi and children. For charges column the mean is greater than the median. Which shows that there is some skewness, but it is or target variable. Hence we will not remove its skewness.\n",
    "2. The 75% and max values has some difference in the bmi colum indicates that there are some outliers present in it.\n",
    "3. The min charge is 1121USD and Max charge is 63770 USD."
   ]
  },
  {
   "cell_type": "markdown",
   "id": "c824a974",
   "metadata": {},
   "source": [
    "## Data Visualization"
   ]
  },
  {
   "cell_type": "markdown",
   "id": "06d7309c",
   "metadata": {},
   "source": [
    "#### Univariate Analysis"
   ]
  },
  {
   "cell_type": "code",
   "execution_count": 13,
   "id": "52e36446",
   "metadata": {},
   "outputs": [
    {
     "data": {
      "text/plain": [
       "<seaborn.axisgrid.FacetGrid at 0x23aa6462070>"
      ]
     },
     "execution_count": 13,
     "metadata": {},
     "output_type": "execute_result"
    },
    {
     "data": {
      "image/png": "[encoded data removed]",
      "text/plain": [
       "<Figure size 360x360 with 1 Axes>"
      ]
     },
     "metadata": {
      "needs_background": "light"
     },
     "output_type": "display_data"
    }
   ],
   "source": [
    "sns.displot(df['charges'],kde=True)"
   ]
  },
  {
   "cell_type": "markdown",
   "id": "5baf0fba",
   "metadata": {},
   "source": [
    "As we can see above the charges are right tail skewed."
   ]
  },
  {
   "cell_type": "code",
   "execution_count": 14,
   "id": "e4f44832",
   "metadata": {},
   "outputs": [
    {
     "data": {
      "text/plain": [
       "<seaborn.axisgrid.FacetGrid at 0x23aa647dbe0>"
      ]
     },
     "execution_count": 14,
     "metadata": {},
     "output_type": "execute_result"
    },
    {
     "data": {
      "image/png": "[encoded data removed]",
      "text/plain": [
       "<Figure size 360x360 with 1 Axes>"
      ]
     },
     "metadata": {
      "needs_background": "light"
     },
     "output_type": "display_data"
    }
   ],
   "source": [
    "sns.displot(df['bmi'],kde=True)"
   ]
  },
  {
   "cell_type": "markdown",
   "id": "67d53d3a",
   "metadata": {},
   "source": [
    "As we can see above there is no skewness in the bmi column."
   ]
  },
  {
   "cell_type": "code",
   "execution_count": 15,
   "id": "81b65623",
   "metadata": {},
   "outputs": [
    {
     "name": "stdout",
     "output_type": "stream",
     "text": [
      "male      676\n",
      "female    662\n",
      "Name: sex, dtype: int64\n"
     ]
    },
    {
     "data": {
      "image/png": "[encoded data removed]",
      "text/plain": [
       "<Figure size 432x288 with 1 Axes>"
      ]
     },
     "metadata": {
      "needs_background": "light"
     },
     "output_type": "display_data"
    }
   ],
   "source": [
    "sns.countplot(x='sex',data=df)\n",
    "print(df['sex'].value_counts())"
   ]
  },
  {
   "cell_type": "markdown",
   "id": "ca737e6c",
   "metadata": {},
   "source": [
    "The count of the Male and female present in the data is almost same."
   ]
  },
  {
   "cell_type": "code",
   "execution_count": 16,
   "id": "22fff70c",
   "metadata": {},
   "outputs": [
    {
     "name": "stdout",
     "output_type": "stream",
     "text": [
      "no     1064\n",
      "yes     274\n",
      "Name: smoker, dtype: int64\n"
     ]
    },
    {
     "data": {
      "image/png": "[encoded data removed]",
      "text/plain": [
       "<Figure size 432x288 with 1 Axes>"
      ]
     },
     "metadata": {
      "needs_background": "light"
     },
     "output_type": "display_data"
    }
   ],
   "source": [
    "sns.countplot(x='smoker',data=df)\n",
    "print(df['smoker'].value_counts())"
   ]
  },
  {
   "cell_type": "markdown",
   "id": "7523f100",
   "metadata": {},
   "source": [
    "The number of smokers are less."
   ]
  },
  {
   "cell_type": "code",
   "execution_count": 17,
   "id": "1c9d6931",
   "metadata": {},
   "outputs": [
    {
     "name": "stdout",
     "output_type": "stream",
     "text": [
      "southeast    364\n",
      "southwest    325\n",
      "northwest    325\n",
      "northeast    324\n",
      "Name: region, dtype: int64\n"
     ]
    },
    {
     "data": {
      "image/png": "[encoded data removed]",
      "text/plain": [
       "<Figure size 432x288 with 1 Axes>"
      ]
     },
     "metadata": {
      "needs_background": "light"
     },
     "output_type": "display_data"
    }
   ],
   "source": [
    "sns.countplot(x='region',data=df)\n",
    "print(df['region'].value_counts())"
   ]
  },
  {
   "cell_type": "markdown",
   "id": "19915130",
   "metadata": {},
   "source": [
    "The people insured in southeast region are more when compared to other three regions."
   ]
  },
  {
   "cell_type": "markdown",
   "id": "5471642d",
   "metadata": {},
   "source": [
    "#### Bivariate Analysis"
   ]
  },
  {
   "cell_type": "markdown",
   "id": "53f35336",
   "metadata": {},
   "source": [
    "Lets see how our target variable is affected by the independent variables."
   ]
  },
  {
   "cell_type": "code",
   "execution_count": 18,
   "id": "52bd4652",
   "metadata": {},
   "outputs": [
    {
     "data": {
      "text/plain": [
       "<AxesSubplot:xlabel='age', ylabel='charges'>"
      ]
     },
     "execution_count": 18,
     "metadata": {},
     "output_type": "execute_result"
    },
    {
     "data": {
      "image/png": "[encoded data removed]",
      "text/plain": [
       "<Figure size 864x432 with 1 Axes>"
      ]
     },
     "metadata": {
      "needs_background": "light"
     },
     "output_type": "display_data"
    }
   ],
   "source": [
    "plt.figure(figsize=(12,6))\n",
    "sns.barplot(x=df['age'] , y=df['charges'], data=df)"
   ]
  },
  {
   "cell_type": "markdown",
   "id": "2abac52f",
   "metadata": {},
   "source": [
    "As we can see as the age increases the medical charges increase."
   ]
  },
  {
   "cell_type": "code",
   "execution_count": 19,
   "id": "2c21b2d1",
   "metadata": {},
   "outputs": [
    {
     "data": {
      "text/plain": [
       "<AxesSubplot:xlabel='children', ylabel='charges'>"
      ]
     },
     "execution_count": 19,
     "metadata": {},
     "output_type": "execute_result"
    },
    {
     "data": {
      "image/png": "[encoded data removed]",
      "text/plain": [
       "<Figure size 432x288 with 1 Axes>"
      ]
     },
     "metadata": {
      "needs_background": "light"
     },
     "output_type": "display_data"
    }
   ],
   "source": [
    "sns.barplot(data=df, x= df['children'], y=df['charges'])"
   ]
  },
  {
   "cell_type": "markdown",
   "id": "1a95ae01",
   "metadata": {},
   "source": [
    "We can see how the charges are based on number of children."
   ]
  },
  {
   "cell_type": "markdown",
   "id": "baa535ff",
   "metadata": {},
   "source": [
    "#### Multivariate Analysis"
   ]
  },
  {
   "cell_type": "code",
   "execution_count": 20,
   "id": "7e834e65",
   "metadata": {},
   "outputs": [
    {
     "data": {
      "text/plain": [
       "<seaborn.axisgrid.FacetGrid at 0x23aa6b7e820>"
      ]
     },
     "execution_count": 20,
     "metadata": {},
     "output_type": "execute_result"
    },
    {
     "data": {
      "text/plain": [
       "<Figure size 1440x1080 with 0 Axes>"
      ]
     },
     "metadata": {},
     "output_type": "display_data"
    },
    {
     "data": {
      "image/png": "[encoded data removed]",
      "text/plain": [
       "<Figure size 413.25x360 with 1 Axes>"
      ]
     },
     "metadata": {
      "needs_background": "light"
     },
     "output_type": "display_data"
    }
   ],
   "source": [
    "plt.figure(figsize=(20,15))\n",
    "sns.relplot(x='bmi', y='charges',hue='smoker',data=df)"
   ]
  },
  {
   "cell_type": "markdown",
   "id": "22951ed4",
   "metadata": {},
   "source": [
    "As we can see the charges are quite high for smokers irrespective of the the bmi values."
   ]
  },
  {
   "cell_type": "code",
   "execution_count": 21,
   "id": "fe449fe1",
   "metadata": {},
   "outputs": [
    {
     "data": {
      "text/plain": [
       "<AxesSubplot:xlabel='region', ylabel='charges'>"
      ]
     },
     "execution_count": 21,
     "metadata": {},
     "output_type": "execute_result"
    },
    {
     "data": {
      "image/png": "[encoded data removed]",
      "text/plain": [
       "<Figure size 1296x432 with 2 Axes>"
      ]
     },
     "metadata": {
      "needs_background": "light"
     },
     "output_type": "display_data"
    }
   ],
   "source": [
    "plt.subplots(figsize=(18,6))\n",
    "\n",
    "plt.subplot(1,2,1)\n",
    "sns.barplot(x=df['region'], y =df['charges'], hue='sex', data=df)\n",
    "\n",
    "plt.subplot(1,2,2)\n",
    "sns.barplot(x=df['region'], y =df['charges'], hue='smoker', data=df)"
   ]
  },
  {
   "cell_type": "markdown",
   "id": "dec32c6f",
   "metadata": {},
   "source": [
    "1. Based on each region, if we look at it based on gender, on average, men have higher hospital charges than women.\n",
    "2. When we look at the smoking, then the charges are high. This also happens in reality that the smokers have high chances of diseases compared to the non smokers."
   ]
  },
  {
   "cell_type": "code",
   "execution_count": 22,
   "id": "a7c20503",
   "metadata": {},
   "outputs": [
    {
     "data": {
      "image/png": "[encoded data removed]",
      "text/plain": [
       "<Figure size 720x720 with 20 Axes>"
      ]
     },
     "metadata": {
      "needs_background": "light"
     },
     "output_type": "display_data"
    }
   ],
   "source": [
    "sns.pairplot(df)\n",
    "plt.show()"
   ]
  },
  {
   "cell_type": "markdown",
   "id": "76d92a6c",
   "metadata": {},
   "source": [
    "#### Encoding the Categorical columns to Numerical columns"
   ]
  },
  {
   "cell_type": "code",
   "execution_count": 23,
   "id": "748e9206",
   "metadata": {},
   "outputs": [
    {
     "data": {
      "text/html": [
       "<div>\n",
       "<style scoped>\n",
       "    .dataframe tbody tr th:only-of-type {\n",
       "        vertical-align: middle;\n",
       "    }\n",
       "\n",
       "    .dataframe tbody tr th {\n",
       "        vertical-align: top;\n",
       "    }\n",
       "\n",
       "    .dataframe thead th {\n",
       "        text-align: right;\n",
       "    }\n",
       "</style>\n",
       "<table border=\"1\" class=\"dataframe\">\n",
       "  <thead>\n",
       "    <tr style=\"text-align: right;\">\n",
       "      <th></th>\n",
       "      <th>age</th>\n",
       "      <th>sex</th>\n",
       "      <th>bmi</th>\n",
       "      <th>children</th>\n",
       "      <th>smoker</th>\n",
       "      <th>region</th>\n",
       "      <th>charges</th>\n",
       "    </tr>\n",
       "  </thead>\n",
       "  <tbody>\n",
       "    <tr>\n",
       "      <th>0</th>\n",
       "      <td>19</td>\n",
       "      <td>0.0</td>\n",
       "      <td>27.900</td>\n",
       "      <td>0</td>\n",
       "      <td>1.0</td>\n",
       "      <td>3.0</td>\n",
       "      <td>16884.92400</td>\n",
       "    </tr>\n",
       "    <tr>\n",
       "      <th>1</th>\n",
       "      <td>18</td>\n",
       "      <td>1.0</td>\n",
       "      <td>33.770</td>\n",
       "      <td>1</td>\n",
       "      <td>0.0</td>\n",
       "      <td>2.0</td>\n",
       "      <td>1725.55230</td>\n",
       "    </tr>\n",
       "    <tr>\n",
       "      <th>2</th>\n",
       "      <td>28</td>\n",
       "      <td>1.0</td>\n",
       "      <td>33.000</td>\n",
       "      <td>3</td>\n",
       "      <td>0.0</td>\n",
       "      <td>2.0</td>\n",
       "      <td>4449.46200</td>\n",
       "    </tr>\n",
       "    <tr>\n",
       "      <th>3</th>\n",
       "      <td>33</td>\n",
       "      <td>1.0</td>\n",
       "      <td>22.705</td>\n",
       "      <td>0</td>\n",
       "      <td>0.0</td>\n",
       "      <td>1.0</td>\n",
       "      <td>21984.47061</td>\n",
       "    </tr>\n",
       "    <tr>\n",
       "      <th>4</th>\n",
       "      <td>32</td>\n",
       "      <td>1.0</td>\n",
       "      <td>28.880</td>\n",
       "      <td>0</td>\n",
       "      <td>0.0</td>\n",
       "      <td>1.0</td>\n",
       "      <td>3866.85520</td>\n",
       "    </tr>\n",
       "    <tr>\n",
       "      <th>...</th>\n",
       "      <td>...</td>\n",
       "      <td>...</td>\n",
       "      <td>...</td>\n",
       "      <td>...</td>\n",
       "      <td>...</td>\n",
       "      <td>...</td>\n",
       "      <td>...</td>\n",
       "    </tr>\n",
       "    <tr>\n",
       "      <th>1333</th>\n",
       "      <td>50</td>\n",
       "      <td>1.0</td>\n",
       "      <td>30.970</td>\n",
       "      <td>3</td>\n",
       "      <td>0.0</td>\n",
       "      <td>1.0</td>\n",
       "      <td>10600.54830</td>\n",
       "    </tr>\n",
       "    <tr>\n",
       "      <th>1334</th>\n",
       "      <td>18</td>\n",
       "      <td>0.0</td>\n",
       "      <td>31.920</td>\n",
       "      <td>0</td>\n",
       "      <td>0.0</td>\n",
       "      <td>0.0</td>\n",
       "      <td>2205.98080</td>\n",
       "    </tr>\n",
       "    <tr>\n",
       "      <th>1335</th>\n",
       "      <td>18</td>\n",
       "      <td>0.0</td>\n",
       "      <td>36.850</td>\n",
       "      <td>0</td>\n",
       "      <td>0.0</td>\n",
       "      <td>2.0</td>\n",
       "      <td>1629.83350</td>\n",
       "    </tr>\n",
       "    <tr>\n",
       "      <th>1336</th>\n",
       "      <td>21</td>\n",
       "      <td>0.0</td>\n",
       "      <td>25.800</td>\n",
       "      <td>0</td>\n",
       "      <td>0.0</td>\n",
       "      <td>3.0</td>\n",
       "      <td>2007.94500</td>\n",
       "    </tr>\n",
       "    <tr>\n",
       "      <th>1337</th>\n",
       "      <td>61</td>\n",
       "      <td>0.0</td>\n",
       "      <td>29.070</td>\n",
       "      <td>0</td>\n",
       "      <td>1.0</td>\n",
       "      <td>1.0</td>\n",
       "      <td>29141.36030</td>\n",
       "    </tr>\n",
       "  </tbody>\n",
       "</table>\n",
       "<p>1338 rows × 7 columns</p>\n",
       "</div>"
      ],
      "text/plain": [
       "      age  sex     bmi  children  smoker  region      charges\n",
       "0      19  0.0  27.900         0     1.0     3.0  16884.92400\n",
       "1      18  1.0  33.770         1     0.0     2.0   1725.55230\n",
       "2      28  1.0  33.000         3     0.0     2.0   4449.46200\n",
       "3      33  1.0  22.705         0     0.0     1.0  21984.47061\n",
       "4      32  1.0  28.880         0     0.0     1.0   3866.85520\n",
       "...   ...  ...     ...       ...     ...     ...          ...\n",
       "1333   50  1.0  30.970         3     0.0     1.0  10600.54830\n",
       "1334   18  0.0  31.920         0     0.0     0.0   2205.98080\n",
       "1335   18  0.0  36.850         0     0.0     2.0   1629.83350\n",
       "1336   21  0.0  25.800         0     0.0     3.0   2007.94500\n",
       "1337   61  0.0  29.070         0     1.0     1.0  29141.36030\n",
       "\n",
       "[1338 rows x 7 columns]"
      ]
     },
     "execution_count": 23,
     "metadata": {},
     "output_type": "execute_result"
    }
   ],
   "source": [
    "from sklearn.preprocessing import OrdinalEncoder\n",
    "OE = OrdinalEncoder()\n",
    "for i in df.columns:\n",
    "    if df[i].dtypes=='object':\n",
    "        df[i]=OE.fit_transform(df[i].values.reshape(-1,1))\n",
    "df"
   ]
  },
  {
   "cell_type": "markdown",
   "id": "43959549",
   "metadata": {},
   "source": [
    "Using the ordinal encoder, i have changed the categorical columns to numerical columns."
   ]
  },
  {
   "cell_type": "markdown",
   "id": "eb6f1313",
   "metadata": {},
   "source": [
    "#### Checking for outliers"
   ]
  },
  {
   "cell_type": "code",
   "execution_count": 24,
   "id": "d64ffff5",
   "metadata": {},
   "outputs": [
    {
     "data": {
      "image/png": "[encoded data removed]",
      "text/plain": [
       "<Figure size 1440x1080 with 7 Axes>"
      ]
     },
     "metadata": {
      "needs_background": "light"
     },
     "output_type": "display_data"
    }
   ],
   "source": [
    "plt.figure(figsize=(20,15))\n",
    "for i in enumerate(df.columns):\n",
    "    plt.subplot(3,3,i[0]+1)\n",
    "    sns.boxplot(df[i[1]])"
   ]
  },
  {
   "cell_type": "markdown",
   "id": "bb54a62d",
   "metadata": {},
   "source": [
    "Since charges is the target variable we will not be removing the outliers from it. But bmi has some outliers, so we will remove outliers from it. "
   ]
  },
  {
   "cell_type": "markdown",
   "id": "6c955b40",
   "metadata": {},
   "source": [
    "#### Removing outliers "
   ]
  },
  {
   "cell_type": "markdown",
   "id": "b4bfc384",
   "metadata": {},
   "source": [
    "zscore Method"
   ]
  },
  {
   "cell_type": "code",
   "execution_count": 25,
   "id": "722831f5",
   "metadata": {},
   "outputs": [
    {
     "data": {
      "text/plain": [
       "0       0.453320\n",
       "1       0.509621\n",
       "2       0.383307\n",
       "3       1.305531\n",
       "4       0.292556\n",
       "          ...   \n",
       "1333    0.050297\n",
       "1334    0.206139\n",
       "1335    1.014878\n",
       "1336    0.797813\n",
       "1337    0.261388\n",
       "Name: bmi, Length: 1338, dtype: float64"
      ]
     },
     "execution_count": 25,
     "metadata": {},
     "output_type": "execute_result"
    }
   ],
   "source": [
    "from scipy.stats import zscore\n",
    "z=np.abs(zscore(df['bmi']))\n",
    "z"
   ]
  },
  {
   "cell_type": "code",
   "execution_count": 26,
   "id": "a905e564",
   "metadata": {},
   "outputs": [
    {
     "name": "stdout",
     "output_type": "stream",
     "text": [
      "(array([ 116,  847, 1047, 1317], dtype=int64),)\n"
     ]
    }
   ],
   "source": [
    "threshold=3\n",
    "print(np.where(z>3))"
   ]
  },
  {
   "cell_type": "code",
   "execution_count": 27,
   "id": "faf02c7a",
   "metadata": {},
   "outputs": [
    {
     "data": {
      "text/plain": [
       "3.595297768208803"
      ]
     },
     "execution_count": 27,
     "metadata": {},
     "output_type": "execute_result"
    }
   ],
   "source": [
    "z.iloc[1047]"
   ]
  },
  {
   "cell_type": "code",
   "execution_count": 28,
   "id": "35674f00",
   "metadata": {},
   "outputs": [
    {
     "name": "stdout",
     "output_type": "stream",
     "text": [
      "(1338, 7)\n",
      "(1334, 7)\n"
     ]
    }
   ],
   "source": [
    "df1=df[(z<3)]\n",
    "print(df.shape)\n",
    "print(df1.shape)"
   ]
  },
  {
   "cell_type": "code",
   "execution_count": 29,
   "id": "176c0e00",
   "metadata": {},
   "outputs": [
    {
     "data": {
      "text/plain": [
       "0.29895366218236175"
      ]
     },
     "execution_count": 29,
     "metadata": {},
     "output_type": "execute_result"
    }
   ],
   "source": [
    "# Data loss percentage using zscore method\n",
    "a=((1338-1334)/1338)*100\n",
    "a"
   ]
  },
  {
   "cell_type": "code",
   "execution_count": 30,
   "id": "158b7c1a",
   "metadata": {},
   "outputs": [
    {
     "data": {
      "text/html": [
       "<div>\n",
       "<style scoped>\n",
       "    .dataframe tbody tr th:only-of-type {\n",
       "        vertical-align: middle;\n",
       "    }\n",
       "\n",
       "    .dataframe tbody tr th {\n",
       "        vertical-align: top;\n",
       "    }\n",
       "\n",
       "    .dataframe thead th {\n",
       "        text-align: right;\n",
       "    }\n",
       "</style>\n",
       "<table border=\"1\" class=\"dataframe\">\n",
       "  <thead>\n",
       "    <tr style=\"text-align: right;\">\n",
       "      <th></th>\n",
       "      <th>age</th>\n",
       "      <th>sex</th>\n",
       "      <th>bmi</th>\n",
       "      <th>children</th>\n",
       "      <th>smoker</th>\n",
       "      <th>region</th>\n",
       "      <th>charges</th>\n",
       "    </tr>\n",
       "  </thead>\n",
       "  <tbody>\n",
       "    <tr>\n",
       "      <th>0</th>\n",
       "      <td>19</td>\n",
       "      <td>0.0</td>\n",
       "      <td>27.900</td>\n",
       "      <td>0</td>\n",
       "      <td>1.0</td>\n",
       "      <td>3.0</td>\n",
       "      <td>16884.92400</td>\n",
       "    </tr>\n",
       "    <tr>\n",
       "      <th>1</th>\n",
       "      <td>18</td>\n",
       "      <td>1.0</td>\n",
       "      <td>33.770</td>\n",
       "      <td>1</td>\n",
       "      <td>0.0</td>\n",
       "      <td>2.0</td>\n",
       "      <td>1725.55230</td>\n",
       "    </tr>\n",
       "    <tr>\n",
       "      <th>2</th>\n",
       "      <td>28</td>\n",
       "      <td>1.0</td>\n",
       "      <td>33.000</td>\n",
       "      <td>3</td>\n",
       "      <td>0.0</td>\n",
       "      <td>2.0</td>\n",
       "      <td>4449.46200</td>\n",
       "    </tr>\n",
       "    <tr>\n",
       "      <th>3</th>\n",
       "      <td>33</td>\n",
       "      <td>1.0</td>\n",
       "      <td>22.705</td>\n",
       "      <td>0</td>\n",
       "      <td>0.0</td>\n",
       "      <td>1.0</td>\n",
       "      <td>21984.47061</td>\n",
       "    </tr>\n",
       "    <tr>\n",
       "      <th>4</th>\n",
       "      <td>32</td>\n",
       "      <td>1.0</td>\n",
       "      <td>28.880</td>\n",
       "      <td>0</td>\n",
       "      <td>0.0</td>\n",
       "      <td>1.0</td>\n",
       "      <td>3866.85520</td>\n",
       "    </tr>\n",
       "    <tr>\n",
       "      <th>...</th>\n",
       "      <td>...</td>\n",
       "      <td>...</td>\n",
       "      <td>...</td>\n",
       "      <td>...</td>\n",
       "      <td>...</td>\n",
       "      <td>...</td>\n",
       "      <td>...</td>\n",
       "    </tr>\n",
       "    <tr>\n",
       "      <th>1333</th>\n",
       "      <td>50</td>\n",
       "      <td>1.0</td>\n",
       "      <td>30.970</td>\n",
       "      <td>3</td>\n",
       "      <td>0.0</td>\n",
       "      <td>1.0</td>\n",
       "      <td>10600.54830</td>\n",
       "    </tr>\n",
       "    <tr>\n",
       "      <th>1334</th>\n",
       "      <td>18</td>\n",
       "      <td>0.0</td>\n",
       "      <td>31.920</td>\n",
       "      <td>0</td>\n",
       "      <td>0.0</td>\n",
       "      <td>0.0</td>\n",
       "      <td>2205.98080</td>\n",
       "    </tr>\n",
       "    <tr>\n",
       "      <th>1335</th>\n",
       "      <td>18</td>\n",
       "      <td>0.0</td>\n",
       "      <td>36.850</td>\n",
       "      <td>0</td>\n",
       "      <td>0.0</td>\n",
       "      <td>2.0</td>\n",
       "      <td>1629.83350</td>\n",
       "    </tr>\n",
       "    <tr>\n",
       "      <th>1336</th>\n",
       "      <td>21</td>\n",
       "      <td>0.0</td>\n",
       "      <td>25.800</td>\n",
       "      <td>0</td>\n",
       "      <td>0.0</td>\n",
       "      <td>3.0</td>\n",
       "      <td>2007.94500</td>\n",
       "    </tr>\n",
       "    <tr>\n",
       "      <th>1337</th>\n",
       "      <td>61</td>\n",
       "      <td>0.0</td>\n",
       "      <td>29.070</td>\n",
       "      <td>0</td>\n",
       "      <td>1.0</td>\n",
       "      <td>1.0</td>\n",
       "      <td>29141.36030</td>\n",
       "    </tr>\n",
       "  </tbody>\n",
       "</table>\n",
       "<p>1334 rows × 7 columns</p>\n",
       "</div>"
      ],
      "text/plain": [
       "      age  sex     bmi  children  smoker  region      charges\n",
       "0      19  0.0  27.900         0     1.0     3.0  16884.92400\n",
       "1      18  1.0  33.770         1     0.0     2.0   1725.55230\n",
       "2      28  1.0  33.000         3     0.0     2.0   4449.46200\n",
       "3      33  1.0  22.705         0     0.0     1.0  21984.47061\n",
       "4      32  1.0  28.880         0     0.0     1.0   3866.85520\n",
       "...   ...  ...     ...       ...     ...     ...          ...\n",
       "1333   50  1.0  30.970         3     0.0     1.0  10600.54830\n",
       "1334   18  0.0  31.920         0     0.0     0.0   2205.98080\n",
       "1335   18  0.0  36.850         0     0.0     2.0   1629.83350\n",
       "1336   21  0.0  25.800         0     0.0     3.0   2007.94500\n",
       "1337   61  0.0  29.070         0     1.0     1.0  29141.36030\n",
       "\n",
       "[1334 rows x 7 columns]"
      ]
     },
     "execution_count": 30,
     "metadata": {},
     "output_type": "execute_result"
    }
   ],
   "source": [
    "df=df1\n",
    "df"
   ]
  },
  {
   "cell_type": "code",
   "execution_count": 31,
   "id": "04b5b17e",
   "metadata": {},
   "outputs": [],
   "source": [
    "df.reset_index(drop=True,inplace=True)"
   ]
  },
  {
   "cell_type": "code",
   "execution_count": 32,
   "id": "b0bd43fd",
   "metadata": {},
   "outputs": [
    {
     "data": {
      "text/html": [
       "<div>\n",
       "<style scoped>\n",
       "    .dataframe tbody tr th:only-of-type {\n",
       "        vertical-align: middle;\n",
       "    }\n",
       "\n",
       "    .dataframe tbody tr th {\n",
       "        vertical-align: top;\n",
       "    }\n",
       "\n",
       "    .dataframe thead th {\n",
       "        text-align: right;\n",
       "    }\n",
       "</style>\n",
       "<table border=\"1\" class=\"dataframe\">\n",
       "  <thead>\n",
       "    <tr style=\"text-align: right;\">\n",
       "      <th></th>\n",
       "      <th>age</th>\n",
       "      <th>sex</th>\n",
       "      <th>bmi</th>\n",
       "      <th>children</th>\n",
       "      <th>smoker</th>\n",
       "      <th>region</th>\n",
       "      <th>charges</th>\n",
       "    </tr>\n",
       "  </thead>\n",
       "  <tbody>\n",
       "    <tr>\n",
       "      <th>0</th>\n",
       "      <td>19</td>\n",
       "      <td>0.0</td>\n",
       "      <td>27.900</td>\n",
       "      <td>0</td>\n",
       "      <td>1.0</td>\n",
       "      <td>3.0</td>\n",
       "      <td>16884.92400</td>\n",
       "    </tr>\n",
       "    <tr>\n",
       "      <th>1</th>\n",
       "      <td>18</td>\n",
       "      <td>1.0</td>\n",
       "      <td>33.770</td>\n",
       "      <td>1</td>\n",
       "      <td>0.0</td>\n",
       "      <td>2.0</td>\n",
       "      <td>1725.55230</td>\n",
       "    </tr>\n",
       "    <tr>\n",
       "      <th>2</th>\n",
       "      <td>28</td>\n",
       "      <td>1.0</td>\n",
       "      <td>33.000</td>\n",
       "      <td>3</td>\n",
       "      <td>0.0</td>\n",
       "      <td>2.0</td>\n",
       "      <td>4449.46200</td>\n",
       "    </tr>\n",
       "    <tr>\n",
       "      <th>3</th>\n",
       "      <td>33</td>\n",
       "      <td>1.0</td>\n",
       "      <td>22.705</td>\n",
       "      <td>0</td>\n",
       "      <td>0.0</td>\n",
       "      <td>1.0</td>\n",
       "      <td>21984.47061</td>\n",
       "    </tr>\n",
       "    <tr>\n",
       "      <th>4</th>\n",
       "      <td>32</td>\n",
       "      <td>1.0</td>\n",
       "      <td>28.880</td>\n",
       "      <td>0</td>\n",
       "      <td>0.0</td>\n",
       "      <td>1.0</td>\n",
       "      <td>3866.85520</td>\n",
       "    </tr>\n",
       "    <tr>\n",
       "      <th>...</th>\n",
       "      <td>...</td>\n",
       "      <td>...</td>\n",
       "      <td>...</td>\n",
       "      <td>...</td>\n",
       "      <td>...</td>\n",
       "      <td>...</td>\n",
       "      <td>...</td>\n",
       "    </tr>\n",
       "    <tr>\n",
       "      <th>1329</th>\n",
       "      <td>50</td>\n",
       "      <td>1.0</td>\n",
       "      <td>30.970</td>\n",
       "      <td>3</td>\n",
       "      <td>0.0</td>\n",
       "      <td>1.0</td>\n",
       "      <td>10600.54830</td>\n",
       "    </tr>\n",
       "    <tr>\n",
       "      <th>1330</th>\n",
       "      <td>18</td>\n",
       "      <td>0.0</td>\n",
       "      <td>31.920</td>\n",
       "      <td>0</td>\n",
       "      <td>0.0</td>\n",
       "      <td>0.0</td>\n",
       "      <td>2205.98080</td>\n",
       "    </tr>\n",
       "    <tr>\n",
       "      <th>1331</th>\n",
       "      <td>18</td>\n",
       "      <td>0.0</td>\n",
       "      <td>36.850</td>\n",
       "      <td>0</td>\n",
       "      <td>0.0</td>\n",
       "      <td>2.0</td>\n",
       "      <td>1629.83350</td>\n",
       "    </tr>\n",
       "    <tr>\n",
       "      <th>1332</th>\n",
       "      <td>21</td>\n",
       "      <td>0.0</td>\n",
       "      <td>25.800</td>\n",
       "      <td>0</td>\n",
       "      <td>0.0</td>\n",
       "      <td>3.0</td>\n",
       "      <td>2007.94500</td>\n",
       "    </tr>\n",
       "    <tr>\n",
       "      <th>1333</th>\n",
       "      <td>61</td>\n",
       "      <td>0.0</td>\n",
       "      <td>29.070</td>\n",
       "      <td>0</td>\n",
       "      <td>1.0</td>\n",
       "      <td>1.0</td>\n",
       "      <td>29141.36030</td>\n",
       "    </tr>\n",
       "  </tbody>\n",
       "</table>\n",
       "<p>1334 rows × 7 columns</p>\n",
       "</div>"
      ],
      "text/plain": [
       "      age  sex     bmi  children  smoker  region      charges\n",
       "0      19  0.0  27.900         0     1.0     3.0  16884.92400\n",
       "1      18  1.0  33.770         1     0.0     2.0   1725.55230\n",
       "2      28  1.0  33.000         3     0.0     2.0   4449.46200\n",
       "3      33  1.0  22.705         0     0.0     1.0  21984.47061\n",
       "4      32  1.0  28.880         0     0.0     1.0   3866.85520\n",
       "...   ...  ...     ...       ...     ...     ...          ...\n",
       "1329   50  1.0  30.970         3     0.0     1.0  10600.54830\n",
       "1330   18  0.0  31.920         0     0.0     0.0   2205.98080\n",
       "1331   18  0.0  36.850         0     0.0     2.0   1629.83350\n",
       "1332   21  0.0  25.800         0     0.0     3.0   2007.94500\n",
       "1333   61  0.0  29.070         0     1.0     1.0  29141.36030\n",
       "\n",
       "[1334 rows x 7 columns]"
      ]
     },
     "execution_count": 32,
     "metadata": {},
     "output_type": "execute_result"
    }
   ],
   "source": [
    "df"
   ]
  },
  {
   "cell_type": "markdown",
   "id": "c9d7c1d7",
   "metadata": {},
   "source": [
    "#### Checking for skewness"
   ]
  },
  {
   "cell_type": "code",
   "execution_count": 33,
   "id": "1c129462",
   "metadata": {},
   "outputs": [
    {
     "data": {
      "text/plain": [
       "age         0.053603\n",
       "sex        -0.015010\n",
       "bmi         0.205622\n",
       "children    0.935415\n",
       "smoker      1.465804\n",
       "region     -0.034385\n",
       "charges     1.517663\n",
       "dtype: float64"
      ]
     },
     "execution_count": 33,
     "metadata": {},
     "output_type": "execute_result"
    }
   ],
   "source": [
    "df.skew()"
   ]
  },
  {
   "cell_type": "markdown",
   "id": "7d8efe1b",
   "metadata": {},
   "source": [
    "As we see the values are low in all columns except for charges. But the Charges is the target variable, so we will not be removing skewness from it."
   ]
  },
  {
   "cell_type": "markdown",
   "id": "3e761a61",
   "metadata": {},
   "source": [
    "#### Correlation Between variables"
   ]
  },
  {
   "cell_type": "code",
   "execution_count": 34,
   "id": "51e6ceaf",
   "metadata": {},
   "outputs": [
    {
     "data": {
      "text/html": [
       "<div>\n",
       "<style scoped>\n",
       "    .dataframe tbody tr th:only-of-type {\n",
       "        vertical-align: middle;\n",
       "    }\n",
       "\n",
       "    .dataframe tbody tr th {\n",
       "        vertical-align: top;\n",
       "    }\n",
       "\n",
       "    .dataframe thead th {\n",
       "        text-align: right;\n",
       "    }\n",
       "</style>\n",
       "<table border=\"1\" class=\"dataframe\">\n",
       "  <thead>\n",
       "    <tr style=\"text-align: right;\">\n",
       "      <th></th>\n",
       "      <th>age</th>\n",
       "      <th>sex</th>\n",
       "      <th>bmi</th>\n",
       "      <th>children</th>\n",
       "      <th>smoker</th>\n",
       "      <th>region</th>\n",
       "      <th>charges</th>\n",
       "    </tr>\n",
       "  </thead>\n",
       "  <tbody>\n",
       "    <tr>\n",
       "      <th>age</th>\n",
       "      <td>1.000000</td>\n",
       "      <td>-0.019041</td>\n",
       "      <td>0.118887</td>\n",
       "      <td>0.042345</td>\n",
       "      <td>-0.023820</td>\n",
       "      <td>0.002974</td>\n",
       "      <td>0.301360</td>\n",
       "    </tr>\n",
       "    <tr>\n",
       "      <th>sex</th>\n",
       "      <td>-0.019041</td>\n",
       "      <td>1.000000</td>\n",
       "      <td>0.037031</td>\n",
       "      <td>0.018667</td>\n",
       "      <td>0.076096</td>\n",
       "      <td>0.003293</td>\n",
       "      <td>0.057165</td>\n",
       "    </tr>\n",
       "    <tr>\n",
       "      <th>bmi</th>\n",
       "      <td>0.118887</td>\n",
       "      <td>0.037031</td>\n",
       "      <td>1.000000</td>\n",
       "      <td>0.018054</td>\n",
       "      <td>0.002264</td>\n",
       "      <td>0.155877</td>\n",
       "      <td>0.200799</td>\n",
       "    </tr>\n",
       "    <tr>\n",
       "      <th>children</th>\n",
       "      <td>0.042345</td>\n",
       "      <td>0.018667</td>\n",
       "      <td>0.018054</td>\n",
       "      <td>1.000000</td>\n",
       "      <td>0.007087</td>\n",
       "      <td>0.017234</td>\n",
       "      <td>0.067569</td>\n",
       "    </tr>\n",
       "    <tr>\n",
       "      <th>smoker</th>\n",
       "      <td>-0.023820</td>\n",
       "      <td>0.076096</td>\n",
       "      <td>0.002264</td>\n",
       "      <td>0.007087</td>\n",
       "      <td>1.000000</td>\n",
       "      <td>-0.002333</td>\n",
       "      <td>0.786536</td>\n",
       "    </tr>\n",
       "    <tr>\n",
       "      <th>region</th>\n",
       "      <td>0.002974</td>\n",
       "      <td>0.003293</td>\n",
       "      <td>0.155877</td>\n",
       "      <td>0.017234</td>\n",
       "      <td>-0.002333</td>\n",
       "      <td>1.000000</td>\n",
       "      <td>-0.006404</td>\n",
       "    </tr>\n",
       "    <tr>\n",
       "      <th>charges</th>\n",
       "      <td>0.301360</td>\n",
       "      <td>0.057165</td>\n",
       "      <td>0.200799</td>\n",
       "      <td>0.067569</td>\n",
       "      <td>0.786536</td>\n",
       "      <td>-0.006404</td>\n",
       "      <td>1.000000</td>\n",
       "    </tr>\n",
       "  </tbody>\n",
       "</table>\n",
       "</div>"
      ],
      "text/plain": [
       "               age       sex       bmi  children    smoker    region   charges\n",
       "age       1.000000 -0.019041  0.118887  0.042345 -0.023820  0.002974  0.301360\n",
       "sex      -0.019041  1.000000  0.037031  0.018667  0.076096  0.003293  0.057165\n",
       "bmi       0.118887  0.037031  1.000000  0.018054  0.002264  0.155877  0.200799\n",
       "children  0.042345  0.018667  0.018054  1.000000  0.007087  0.017234  0.067569\n",
       "smoker   -0.023820  0.076096  0.002264  0.007087  1.000000 -0.002333  0.786536\n",
       "region    0.002974  0.003293  0.155877  0.017234 -0.002333  1.000000 -0.006404\n",
       "charges   0.301360  0.057165  0.200799  0.067569  0.786536 -0.006404  1.000000"
      ]
     },
     "execution_count": 34,
     "metadata": {},
     "output_type": "execute_result"
    }
   ],
   "source": [
    "dfcor=df.corr()\n",
    "dfcor"
   ]
  },
  {
   "cell_type": "code",
   "execution_count": 35,
   "id": "2e11c05f",
   "metadata": {},
   "outputs": [
    {
     "data": {
      "text/plain": [
       "<AxesSubplot:>"
      ]
     },
     "execution_count": 35,
     "metadata": {},
     "output_type": "execute_result"
    },
    {
     "data": {
      "image/png": "[encoded data removed]",
      "text/plain": [
       "<Figure size 1008x1008 with 2 Axes>"
      ]
     },
     "metadata": {
      "needs_background": "light"
     },
     "output_type": "display_data"
    }
   ],
   "source": [
    "plt.figure(figsize=(14,14))\n",
    "sns.heatmap(dfcor,cmap='YlOrRd_r',annot=True)"
   ]
  },
  {
   "cell_type": "markdown",
   "id": "95bf8c9b",
   "metadata": {},
   "source": [
    "Observations:\n",
    "1. The smoker is highly correlated to the charges.\n",
    "2. Age is less correlated to the charges.\n",
    "3. Bmi is very less correlated to the charges."
   ]
  },
  {
   "cell_type": "markdown",
   "id": "cd3eace9",
   "metadata": {},
   "source": [
    "#### Checking Multicolinearity"
   ]
  },
  {
   "cell_type": "markdown",
   "id": "553f137b",
   "metadata": {},
   "source": [
    "Splitting the data"
   ]
  },
  {
   "cell_type": "code",
   "execution_count": 36,
   "id": "d3ae634a",
   "metadata": {},
   "outputs": [],
   "source": [
    "x=df.iloc[:,:-1]\n",
    "y=df.iloc[:,-1]"
   ]
  },
  {
   "cell_type": "code",
   "execution_count": 37,
   "id": "a6187055",
   "metadata": {},
   "outputs": [],
   "source": [
    "from statsmodels.stats.outliers_influence import variance_inflation_factor\n",
    "def vif_calc():\n",
    "    vif=pd.DataFrame()\n",
    "    vif[\"VIF Factor\"]=[variance_inflation_factor(x.values,i) for i in range(x.shape[1])]\n",
    "    vif[\"faetures\"]=x.columns\n",
    "    print(vif)"
   ]
  },
  {
   "cell_type": "code",
   "execution_count": 38,
   "id": "79657870",
   "metadata": {},
   "outputs": [
    {
     "name": "stdout",
     "output_type": "stream",
     "text": [
      "   VIF Factor  faetures\n",
      "0    7.670204       age\n",
      "1    1.990736       sex\n",
      "2   10.499577       bmi\n",
      "3    1.805040  children\n",
      "4    1.256628    smoker\n",
      "5    2.915776    region\n"
     ]
    }
   ],
   "source": [
    "vif_calc()"
   ]
  },
  {
   "cell_type": "markdown",
   "id": "f65dfe74",
   "metadata": {},
   "source": [
    "The bmi vif value and age vif value is more but we will loose the data if we remove it. So not removing."
   ]
  },
  {
   "cell_type": "markdown",
   "id": "07a223c4",
   "metadata": {},
   "source": [
    "Feature Scaling using Min-Max Scaler"
   ]
  },
  {
   "cell_type": "code",
   "execution_count": 39,
   "id": "f1da9a56",
   "metadata": {},
   "outputs": [
    {
     "data": {
      "text/html": [
       "<div>\n",
       "<style scoped>\n",
       "    .dataframe tbody tr th:only-of-type {\n",
       "        vertical-align: middle;\n",
       "    }\n",
       "\n",
       "    .dataframe tbody tr th {\n",
       "        vertical-align: top;\n",
       "    }\n",
       "\n",
       "    .dataframe thead th {\n",
       "        text-align: right;\n",
       "    }\n",
       "</style>\n",
       "<table border=\"1\" class=\"dataframe\">\n",
       "  <thead>\n",
       "    <tr style=\"text-align: right;\">\n",
       "      <th></th>\n",
       "      <th>age</th>\n",
       "      <th>sex</th>\n",
       "      <th>bmi</th>\n",
       "      <th>children</th>\n",
       "      <th>smoker</th>\n",
       "      <th>region</th>\n",
       "      <th>charges</th>\n",
       "    </tr>\n",
       "  </thead>\n",
       "  <tbody>\n",
       "    <tr>\n",
       "      <th>0</th>\n",
       "      <td>19</td>\n",
       "      <td>0.0</td>\n",
       "      <td>27.900</td>\n",
       "      <td>0</td>\n",
       "      <td>1.0</td>\n",
       "      <td>3.0</td>\n",
       "      <td>16884.92400</td>\n",
       "    </tr>\n",
       "    <tr>\n",
       "      <th>1</th>\n",
       "      <td>18</td>\n",
       "      <td>1.0</td>\n",
       "      <td>33.770</td>\n",
       "      <td>1</td>\n",
       "      <td>0.0</td>\n",
       "      <td>2.0</td>\n",
       "      <td>1725.55230</td>\n",
       "    </tr>\n",
       "    <tr>\n",
       "      <th>2</th>\n",
       "      <td>28</td>\n",
       "      <td>1.0</td>\n",
       "      <td>33.000</td>\n",
       "      <td>3</td>\n",
       "      <td>0.0</td>\n",
       "      <td>2.0</td>\n",
       "      <td>4449.46200</td>\n",
       "    </tr>\n",
       "    <tr>\n",
       "      <th>3</th>\n",
       "      <td>33</td>\n",
       "      <td>1.0</td>\n",
       "      <td>22.705</td>\n",
       "      <td>0</td>\n",
       "      <td>0.0</td>\n",
       "      <td>1.0</td>\n",
       "      <td>21984.47061</td>\n",
       "    </tr>\n",
       "    <tr>\n",
       "      <th>4</th>\n",
       "      <td>32</td>\n",
       "      <td>1.0</td>\n",
       "      <td>28.880</td>\n",
       "      <td>0</td>\n",
       "      <td>0.0</td>\n",
       "      <td>1.0</td>\n",
       "      <td>3866.85520</td>\n",
       "    </tr>\n",
       "    <tr>\n",
       "      <th>...</th>\n",
       "      <td>...</td>\n",
       "      <td>...</td>\n",
       "      <td>...</td>\n",
       "      <td>...</td>\n",
       "      <td>...</td>\n",
       "      <td>...</td>\n",
       "      <td>...</td>\n",
       "    </tr>\n",
       "    <tr>\n",
       "      <th>1329</th>\n",
       "      <td>50</td>\n",
       "      <td>1.0</td>\n",
       "      <td>30.970</td>\n",
       "      <td>3</td>\n",
       "      <td>0.0</td>\n",
       "      <td>1.0</td>\n",
       "      <td>10600.54830</td>\n",
       "    </tr>\n",
       "    <tr>\n",
       "      <th>1330</th>\n",
       "      <td>18</td>\n",
       "      <td>0.0</td>\n",
       "      <td>31.920</td>\n",
       "      <td>0</td>\n",
       "      <td>0.0</td>\n",
       "      <td>0.0</td>\n",
       "      <td>2205.98080</td>\n",
       "    </tr>\n",
       "    <tr>\n",
       "      <th>1331</th>\n",
       "      <td>18</td>\n",
       "      <td>0.0</td>\n",
       "      <td>36.850</td>\n",
       "      <td>0</td>\n",
       "      <td>0.0</td>\n",
       "      <td>2.0</td>\n",
       "      <td>1629.83350</td>\n",
       "    </tr>\n",
       "    <tr>\n",
       "      <th>1332</th>\n",
       "      <td>21</td>\n",
       "      <td>0.0</td>\n",
       "      <td>25.800</td>\n",
       "      <td>0</td>\n",
       "      <td>0.0</td>\n",
       "      <td>3.0</td>\n",
       "      <td>2007.94500</td>\n",
       "    </tr>\n",
       "    <tr>\n",
       "      <th>1333</th>\n",
       "      <td>61</td>\n",
       "      <td>0.0</td>\n",
       "      <td>29.070</td>\n",
       "      <td>0</td>\n",
       "      <td>1.0</td>\n",
       "      <td>1.0</td>\n",
       "      <td>29141.36030</td>\n",
       "    </tr>\n",
       "  </tbody>\n",
       "</table>\n",
       "<p>1334 rows × 7 columns</p>\n",
       "</div>"
      ],
      "text/plain": [
       "      age  sex     bmi  children  smoker  region      charges\n",
       "0      19  0.0  27.900         0     1.0     3.0  16884.92400\n",
       "1      18  1.0  33.770         1     0.0     2.0   1725.55230\n",
       "2      28  1.0  33.000         3     0.0     2.0   4449.46200\n",
       "3      33  1.0  22.705         0     0.0     1.0  21984.47061\n",
       "4      32  1.0  28.880         0     0.0     1.0   3866.85520\n",
       "...   ...  ...     ...       ...     ...     ...          ...\n",
       "1329   50  1.0  30.970         3     0.0     1.0  10600.54830\n",
       "1330   18  0.0  31.920         0     0.0     0.0   2205.98080\n",
       "1331   18  0.0  36.850         0     0.0     2.0   1629.83350\n",
       "1332   21  0.0  25.800         0     0.0     3.0   2007.94500\n",
       "1333   61  0.0  29.070         0     1.0     1.0  29141.36030\n",
       "\n",
       "[1334 rows x 7 columns]"
      ]
     },
     "execution_count": 39,
     "metadata": {},
     "output_type": "execute_result"
    }
   ],
   "source": [
    "df"
   ]
  },
  {
   "cell_type": "code",
   "execution_count": 40,
   "id": "f3a081f2",
   "metadata": {},
   "outputs": [
    {
     "data": {
      "text/html": [
       "<div>\n",
       "<style scoped>\n",
       "    .dataframe tbody tr th:only-of-type {\n",
       "        vertical-align: middle;\n",
       "    }\n",
       "\n",
       "    .dataframe tbody tr th {\n",
       "        vertical-align: top;\n",
       "    }\n",
       "\n",
       "    .dataframe thead th {\n",
       "        text-align: right;\n",
       "    }\n",
       "</style>\n",
       "<table border=\"1\" class=\"dataframe\">\n",
       "  <thead>\n",
       "    <tr style=\"text-align: right;\">\n",
       "      <th></th>\n",
       "      <th>age</th>\n",
       "      <th>bmi</th>\n",
       "    </tr>\n",
       "  </thead>\n",
       "  <tbody>\n",
       "    <tr>\n",
       "      <th>0</th>\n",
       "      <td>19</td>\n",
       "      <td>27.900</td>\n",
       "    </tr>\n",
       "    <tr>\n",
       "      <th>1</th>\n",
       "      <td>18</td>\n",
       "      <td>33.770</td>\n",
       "    </tr>\n",
       "    <tr>\n",
       "      <th>2</th>\n",
       "      <td>28</td>\n",
       "      <td>33.000</td>\n",
       "    </tr>\n",
       "    <tr>\n",
       "      <th>3</th>\n",
       "      <td>33</td>\n",
       "      <td>22.705</td>\n",
       "    </tr>\n",
       "    <tr>\n",
       "      <th>4</th>\n",
       "      <td>32</td>\n",
       "      <td>28.880</td>\n",
       "    </tr>\n",
       "    <tr>\n",
       "      <th>...</th>\n",
       "      <td>...</td>\n",
       "      <td>...</td>\n",
       "    </tr>\n",
       "    <tr>\n",
       "      <th>1329</th>\n",
       "      <td>50</td>\n",
       "      <td>30.970</td>\n",
       "    </tr>\n",
       "    <tr>\n",
       "      <th>1330</th>\n",
       "      <td>18</td>\n",
       "      <td>31.920</td>\n",
       "    </tr>\n",
       "    <tr>\n",
       "      <th>1331</th>\n",
       "      <td>18</td>\n",
       "      <td>36.850</td>\n",
       "    </tr>\n",
       "    <tr>\n",
       "      <th>1332</th>\n",
       "      <td>21</td>\n",
       "      <td>25.800</td>\n",
       "    </tr>\n",
       "    <tr>\n",
       "      <th>1333</th>\n",
       "      <td>61</td>\n",
       "      <td>29.070</td>\n",
       "    </tr>\n",
       "  </tbody>\n",
       "</table>\n",
       "<p>1334 rows × 2 columns</p>\n",
       "</div>"
      ],
      "text/plain": [
       "      age     bmi\n",
       "0      19  27.900\n",
       "1      18  33.770\n",
       "2      28  33.000\n",
       "3      33  22.705\n",
       "4      32  28.880\n",
       "...   ...     ...\n",
       "1329   50  30.970\n",
       "1330   18  31.920\n",
       "1331   18  36.850\n",
       "1332   21  25.800\n",
       "1333   61  29.070\n",
       "\n",
       "[1334 rows x 2 columns]"
      ]
     },
     "execution_count": 40,
     "metadata": {},
     "output_type": "execute_result"
    }
   ],
   "source": [
    "num=df[['age','bmi']]\n",
    "num"
   ]
  },
  {
   "cell_type": "markdown",
   "id": "611c7992",
   "metadata": {},
   "source": [
    "selecting only numerical columns"
   ]
  },
  {
   "cell_type": "code",
   "execution_count": 41,
   "id": "8c361eec",
   "metadata": {},
   "outputs": [
    {
     "data": {
      "text/plain": [
       "array([[0.02173913, 0.37184678],\n",
       "       [0.        , 0.55465587],\n",
       "       [0.2173913 , 0.5306758 ],\n",
       "       ...,\n",
       "       [0.        , 0.65057614],\n",
       "       [0.06521739, 0.30644659],\n",
       "       [0.93478261, 0.40828402]])"
      ]
     },
     "execution_count": 41,
     "metadata": {},
     "output_type": "execute_result"
    }
   ],
   "source": [
    "from sklearn.preprocessing import MinMaxScaler\n",
    "\n",
    "st=MinMaxScaler()\n",
    "num=st.fit_transform(num)\n",
    "num"
   ]
  },
  {
   "cell_type": "code",
   "execution_count": 42,
   "id": "bac36287",
   "metadata": {},
   "outputs": [
    {
     "data": {
      "text/html": [
       "<div>\n",
       "<style scoped>\n",
       "    .dataframe tbody tr th:only-of-type {\n",
       "        vertical-align: middle;\n",
       "    }\n",
       "\n",
       "    .dataframe tbody tr th {\n",
       "        vertical-align: top;\n",
       "    }\n",
       "\n",
       "    .dataframe thead th {\n",
       "        text-align: right;\n",
       "    }\n",
       "</style>\n",
       "<table border=\"1\" class=\"dataframe\">\n",
       "  <thead>\n",
       "    <tr style=\"text-align: right;\">\n",
       "      <th></th>\n",
       "      <th>age</th>\n",
       "      <th>bmi</th>\n",
       "    </tr>\n",
       "  </thead>\n",
       "  <tbody>\n",
       "    <tr>\n",
       "      <th>0</th>\n",
       "      <td>0.021739</td>\n",
       "      <td>0.371847</td>\n",
       "    </tr>\n",
       "    <tr>\n",
       "      <th>1</th>\n",
       "      <td>0.000000</td>\n",
       "      <td>0.554656</td>\n",
       "    </tr>\n",
       "    <tr>\n",
       "      <th>2</th>\n",
       "      <td>0.217391</td>\n",
       "      <td>0.530676</td>\n",
       "    </tr>\n",
       "    <tr>\n",
       "      <th>3</th>\n",
       "      <td>0.326087</td>\n",
       "      <td>0.210059</td>\n",
       "    </tr>\n",
       "    <tr>\n",
       "      <th>4</th>\n",
       "      <td>0.304348</td>\n",
       "      <td>0.402367</td>\n",
       "    </tr>\n",
       "    <tr>\n",
       "      <th>...</th>\n",
       "      <td>...</td>\n",
       "      <td>...</td>\n",
       "    </tr>\n",
       "    <tr>\n",
       "      <th>1329</th>\n",
       "      <td>0.695652</td>\n",
       "      <td>0.467456</td>\n",
       "    </tr>\n",
       "    <tr>\n",
       "      <th>1330</th>\n",
       "      <td>0.000000</td>\n",
       "      <td>0.497041</td>\n",
       "    </tr>\n",
       "    <tr>\n",
       "      <th>1331</th>\n",
       "      <td>0.000000</td>\n",
       "      <td>0.650576</td>\n",
       "    </tr>\n",
       "    <tr>\n",
       "      <th>1332</th>\n",
       "      <td>0.065217</td>\n",
       "      <td>0.306447</td>\n",
       "    </tr>\n",
       "    <tr>\n",
       "      <th>1333</th>\n",
       "      <td>0.934783</td>\n",
       "      <td>0.408284</td>\n",
       "    </tr>\n",
       "  </tbody>\n",
       "</table>\n",
       "<p>1334 rows × 2 columns</p>\n",
       "</div>"
      ],
      "text/plain": [
       "           age       bmi\n",
       "0     0.021739  0.371847\n",
       "1     0.000000  0.554656\n",
       "2     0.217391  0.530676\n",
       "3     0.326087  0.210059\n",
       "4     0.304348  0.402367\n",
       "...        ...       ...\n",
       "1329  0.695652  0.467456\n",
       "1330  0.000000  0.497041\n",
       "1331  0.000000  0.650576\n",
       "1332  0.065217  0.306447\n",
       "1333  0.934783  0.408284\n",
       "\n",
       "[1334 rows x 2 columns]"
      ]
     },
     "execution_count": 42,
     "metadata": {},
     "output_type": "execute_result"
    }
   ],
   "source": [
    "num=pd.DataFrame(data=num)\n",
    "num.columns=['age','bmi']\n",
    "num"
   ]
  },
  {
   "cell_type": "code",
   "execution_count": 43,
   "id": "5b6e3e4b",
   "metadata": {},
   "outputs": [
    {
     "data": {
      "text/html": [
       "<div>\n",
       "<style scoped>\n",
       "    .dataframe tbody tr th:only-of-type {\n",
       "        vertical-align: middle;\n",
       "    }\n",
       "\n",
       "    .dataframe tbody tr th {\n",
       "        vertical-align: top;\n",
       "    }\n",
       "\n",
       "    .dataframe thead th {\n",
       "        text-align: right;\n",
       "    }\n",
       "</style>\n",
       "<table border=\"1\" class=\"dataframe\">\n",
       "  <thead>\n",
       "    <tr style=\"text-align: right;\">\n",
       "      <th></th>\n",
       "      <th>age</th>\n",
       "      <th>sex</th>\n",
       "      <th>bmi</th>\n",
       "      <th>children</th>\n",
       "      <th>smoker</th>\n",
       "      <th>region</th>\n",
       "      <th>charges</th>\n",
       "    </tr>\n",
       "  </thead>\n",
       "  <tbody>\n",
       "    <tr>\n",
       "      <th>0</th>\n",
       "      <td>0.021739</td>\n",
       "      <td>0.0</td>\n",
       "      <td>0.371847</td>\n",
       "      <td>0</td>\n",
       "      <td>1.0</td>\n",
       "      <td>3.0</td>\n",
       "      <td>16884.92400</td>\n",
       "    </tr>\n",
       "    <tr>\n",
       "      <th>1</th>\n",
       "      <td>0.000000</td>\n",
       "      <td>1.0</td>\n",
       "      <td>0.554656</td>\n",
       "      <td>1</td>\n",
       "      <td>0.0</td>\n",
       "      <td>2.0</td>\n",
       "      <td>1725.55230</td>\n",
       "    </tr>\n",
       "    <tr>\n",
       "      <th>2</th>\n",
       "      <td>0.217391</td>\n",
       "      <td>1.0</td>\n",
       "      <td>0.530676</td>\n",
       "      <td>3</td>\n",
       "      <td>0.0</td>\n",
       "      <td>2.0</td>\n",
       "      <td>4449.46200</td>\n",
       "    </tr>\n",
       "    <tr>\n",
       "      <th>3</th>\n",
       "      <td>0.326087</td>\n",
       "      <td>1.0</td>\n",
       "      <td>0.210059</td>\n",
       "      <td>0</td>\n",
       "      <td>0.0</td>\n",
       "      <td>1.0</td>\n",
       "      <td>21984.47061</td>\n",
       "    </tr>\n",
       "    <tr>\n",
       "      <th>4</th>\n",
       "      <td>0.304348</td>\n",
       "      <td>1.0</td>\n",
       "      <td>0.402367</td>\n",
       "      <td>0</td>\n",
       "      <td>0.0</td>\n",
       "      <td>1.0</td>\n",
       "      <td>3866.85520</td>\n",
       "    </tr>\n",
       "    <tr>\n",
       "      <th>...</th>\n",
       "      <td>...</td>\n",
       "      <td>...</td>\n",
       "      <td>...</td>\n",
       "      <td>...</td>\n",
       "      <td>...</td>\n",
       "      <td>...</td>\n",
       "      <td>...</td>\n",
       "    </tr>\n",
       "    <tr>\n",
       "      <th>1329</th>\n",
       "      <td>0.695652</td>\n",
       "      <td>1.0</td>\n",
       "      <td>0.467456</td>\n",
       "      <td>3</td>\n",
       "      <td>0.0</td>\n",
       "      <td>1.0</td>\n",
       "      <td>10600.54830</td>\n",
       "    </tr>\n",
       "    <tr>\n",
       "      <th>1330</th>\n",
       "      <td>0.000000</td>\n",
       "      <td>0.0</td>\n",
       "      <td>0.497041</td>\n",
       "      <td>0</td>\n",
       "      <td>0.0</td>\n",
       "      <td>0.0</td>\n",
       "      <td>2205.98080</td>\n",
       "    </tr>\n",
       "    <tr>\n",
       "      <th>1331</th>\n",
       "      <td>0.000000</td>\n",
       "      <td>0.0</td>\n",
       "      <td>0.650576</td>\n",
       "      <td>0</td>\n",
       "      <td>0.0</td>\n",
       "      <td>2.0</td>\n",
       "      <td>1629.83350</td>\n",
       "    </tr>\n",
       "    <tr>\n",
       "      <th>1332</th>\n",
       "      <td>0.065217</td>\n",
       "      <td>0.0</td>\n",
       "      <td>0.306447</td>\n",
       "      <td>0</td>\n",
       "      <td>0.0</td>\n",
       "      <td>3.0</td>\n",
       "      <td>2007.94500</td>\n",
       "    </tr>\n",
       "    <tr>\n",
       "      <th>1333</th>\n",
       "      <td>0.934783</td>\n",
       "      <td>0.0</td>\n",
       "      <td>0.408284</td>\n",
       "      <td>0</td>\n",
       "      <td>1.0</td>\n",
       "      <td>1.0</td>\n",
       "      <td>29141.36030</td>\n",
       "    </tr>\n",
       "  </tbody>\n",
       "</table>\n",
       "<p>1334 rows × 7 columns</p>\n",
       "</div>"
      ],
      "text/plain": [
       "           age  sex       bmi  children  smoker  region      charges\n",
       "0     0.021739  0.0  0.371847         0     1.0     3.0  16884.92400\n",
       "1     0.000000  1.0  0.554656         1     0.0     2.0   1725.55230\n",
       "2     0.217391  1.0  0.530676         3     0.0     2.0   4449.46200\n",
       "3     0.326087  1.0  0.210059         0     0.0     1.0  21984.47061\n",
       "4     0.304348  1.0  0.402367         0     0.0     1.0   3866.85520\n",
       "...        ...  ...       ...       ...     ...     ...          ...\n",
       "1329  0.695652  1.0  0.467456         3     0.0     1.0  10600.54830\n",
       "1330  0.000000  0.0  0.497041         0     0.0     0.0   2205.98080\n",
       "1331  0.000000  0.0  0.650576         0     0.0     2.0   1629.83350\n",
       "1332  0.065217  0.0  0.306447         0     0.0     3.0   2007.94500\n",
       "1333  0.934783  0.0  0.408284         0     1.0     1.0  29141.36030\n",
       "\n",
       "[1334 rows x 7 columns]"
      ]
     },
     "execution_count": 43,
     "metadata": {},
     "output_type": "execute_result"
    }
   ],
   "source": [
    "# replacing the scaled columns with the dataset\n",
    "df['age']=num['age']\n",
    "df['bmi']=num['bmi']\n",
    "df"
   ]
  },
  {
   "cell_type": "markdown",
   "id": "48b062ec",
   "metadata": {},
   "source": [
    "# Modelling"
   ]
  },
  {
   "cell_type": "markdown",
   "id": "267c2136",
   "metadata": {},
   "source": [
    "splitting the data"
   ]
  },
  {
   "cell_type": "code",
   "execution_count": 44,
   "id": "1bc61825",
   "metadata": {},
   "outputs": [],
   "source": [
    "x=df.iloc[:,:-1]\n",
    "y=df.iloc[:,-1]"
   ]
  },
  {
   "cell_type": "code",
   "execution_count": 45,
   "id": "41251b63",
   "metadata": {},
   "outputs": [],
   "source": [
    "#importing necessary libraries\n",
    "from sklearn.model_selection import train_test_split\n",
    "from sklearn.ensemble import GradientBoostingRegressor\n",
    "from sklearn.linear_model import LinearRegression\n",
    "from sklearn.metrics import mean_squared_error,mean_absolute_error\n",
    "from sklearn.metrics import r2_score"
   ]
  },
  {
   "cell_type": "markdown",
   "id": "006d11c1",
   "metadata": {},
   "source": [
    "Creating train test split and finding the best random_state"
   ]
  },
  {
   "cell_type": "code",
   "execution_count": 46,
   "id": "fac81a06",
   "metadata": {},
   "outputs": [
    {
     "name": "stdout",
     "output_type": "stream",
     "text": [
      "Maximum r2 score is   0.798036034590452  At random state  179\n"
     ]
    }
   ],
   "source": [
    "maxAccu=0\n",
    "maxRS=0\n",
    "for i in range(1,200):\n",
    "    x_train,x_test,y_train,y_test=train_test_split(x,y,test_size=.30,random_state=i)\n",
    "    LR = LinearRegression()\n",
    "    LR.fit(x_train,y_train)\n",
    "    pred=LR.predict(x_test)\n",
    "    acc=r2_score(y_test,pred)\n",
    "    if acc>maxAccu:\n",
    "        maxAccu = acc\n",
    "        maxRS = i\n",
    "print(\"Maximum r2 score is  \",maxAccu,\" At random state \",maxRS)"
   ]
  },
  {
   "cell_type": "code",
   "execution_count": 47,
   "id": "fda2ad14",
   "metadata": {},
   "outputs": [],
   "source": [
    "x_train,x_test,y_train,y_test=train_test_split(x,y,test_size=.30,random_state=maxRS)"
   ]
  },
  {
   "cell_type": "code",
   "execution_count": 48,
   "id": "ca48df01",
   "metadata": {},
   "outputs": [],
   "source": [
    "from sklearn.linear_model import LinearRegression\n",
    "from sklearn.ensemble import RandomForestRegressor\n",
    "from sklearn.ensemble import GradientBoostingRegressor\n",
    "from sklearn.tree import DecisionTreeRegressor\n",
    "from sklearn.neighbors import KNeighborsRegressor\n",
    "from sklearn.linear_model import Lasso,Ridge\n",
    "from sklearn.linear_model import ElasticNet\n",
    "from sklearn.svm import SVR"
   ]
  },
  {
   "cell_type": "markdown",
   "id": "9020b7c4",
   "metadata": {},
   "source": [
    "#### 1. LinearRegression"
   ]
  },
  {
   "cell_type": "code",
   "execution_count": 49,
   "id": "0dd08a3e",
   "metadata": {},
   "outputs": [
    {
     "name": "stdout",
     "output_type": "stream",
     "text": [
      "R2 Score:  0.798036034590452\n",
      "R2 score on training data:  72.79584787487103\n",
      "Mean absolute error:  4009.0425448396895\n",
      "Mean squared error:  30651251.461297408\n",
      "Root Mean squared error:  5536.357237507114\n"
     ]
    }
   ],
   "source": [
    "LRR = LinearRegression()\n",
    "LRR.fit(x_train,y_train)\n",
    "predLRR=LRR.predict(x_test)\n",
    "pred_train=LRR.predict(x_train)\n",
    "print(\"R2 Score: \", r2_score(y_test,predLRR))\n",
    "print(\"R2 score on training data: \", r2_score(y_train,pred_train)*100)\n",
    "print('Mean absolute error: ',mean_absolute_error(y_test, predLRR))\n",
    "print('Mean squared error: ',mean_squared_error(y_test, predLRR))\n",
    "print('Root Mean squared error: ',np.sqrt(mean_squared_error(y_test, predLRR)))"
   ]
  },
  {
   "cell_type": "markdown",
   "id": "c55ffb6b",
   "metadata": {},
   "source": [
    "#### 2. RandomForestRegressor"
   ]
  },
  {
   "cell_type": "code",
   "execution_count": 50,
   "id": "cf895d5b",
   "metadata": {},
   "outputs": [
    {
     "name": "stdout",
     "output_type": "stream",
     "text": [
      "R2 Score:  0.8664060851938841\n",
      "R2 score on training data:  97.26361594774518\n",
      "Mean absolute error:  2701.0362913807908\n",
      "Mean squared error:  20275006.326588083\n",
      "Root Mean squared error:  4502.777623488427\n"
     ]
    }
   ],
   "source": [
    "RFR = RandomForestRegressor()\n",
    "RFR.fit(x_train,y_train)\n",
    "predRFR=RFR.predict(x_test)\n",
    "pred_train=RFR.predict(x_train)\n",
    "print(\"R2 Score: \", r2_score(y_test,predRFR))\n",
    "print(\"R2 score on training data: \", r2_score(y_train,pred_train)*100)\n",
    "print('Mean absolute error: ',mean_absolute_error(y_test, predRFR))\n",
    "print('Mean squared error: ',mean_squared_error(y_test, predRFR))\n",
    "print('Root Mean squared error: ',np.sqrt(mean_squared_error(y_test, predRFR)))"
   ]
  },
  {
   "cell_type": "markdown",
   "id": "18c19a3a",
   "metadata": {},
   "source": [
    "#### 3. GradientBoostingRegressor"
   ]
  },
  {
   "cell_type": "code",
   "execution_count": 51,
   "id": "21ed53cc",
   "metadata": {},
   "outputs": [
    {
     "name": "stdout",
     "output_type": "stream",
     "text": [
      "R2 Score:  0.8972265105233392\n",
      "R2 score on training data:  89.81908160278628\n",
      "Mean absolute error:  2364.3492425790846\n",
      "Mean squared error:  15597515.44349113\n",
      "Root Mean squared error:  3949.3689930786577\n"
     ]
    }
   ],
   "source": [
    "GBR = GradientBoostingRegressor()\n",
    "GBR.fit(x_train,y_train)\n",
    "predGBR=GBR.predict(x_test)\n",
    "pred_train=GBR.predict(x_train)\n",
    "print(\"R2 Score: \", r2_score(y_test,predGBR))\n",
    "print(\"R2 score on training data: \", r2_score(y_train,pred_train)*100)\n",
    "print('Mean absolute error: ',mean_absolute_error(y_test, predGBR))\n",
    "print('Mean squared error: ',mean_squared_error(y_test, predGBR))\n",
    "print('Root Mean squared error: ',np.sqrt(mean_squared_error(y_test, predGBR)))"
   ]
  },
  {
   "cell_type": "markdown",
   "id": "c4318d0d",
   "metadata": {},
   "source": [
    "#### 4. DecisionTreeRegressor"
   ]
  },
  {
   "cell_type": "code",
   "execution_count": 52,
   "id": "d390ac08",
   "metadata": {},
   "outputs": [
    {
     "name": "stdout",
     "output_type": "stream",
     "text": [
      "R2 Score:  0.7438935960301016\n",
      "R2 score on training data:  99.86325220584284\n",
      "Mean absolute error:  2827.8077231795514\n",
      "Mean squared error:  38868229.65181718\n",
      "Root Mean squared error:  6234.439000569111\n"
     ]
    }
   ],
   "source": [
    "DTR = DecisionTreeRegressor()\n",
    "DTR.fit(x_train,y_train)\n",
    "predDTR=DTR.predict(x_test)\n",
    "pred_train=DTR.predict(x_train)\n",
    "print(\"R2 Score: \", r2_score(y_test,predDTR))\n",
    "print(\"R2 score on training data: \", r2_score(y_train,pred_train)*100)\n",
    "print('Mean absolute error: ',mean_absolute_error(y_test, predDTR))\n",
    "print('Mean squared error: ',mean_squared_error(y_test, predDTR))\n",
    "print('Root Mean squared error: ',np.sqrt(mean_squared_error(y_test, predDTR)))"
   ]
  },
  {
   "cell_type": "markdown",
   "id": "cd89ddff",
   "metadata": {},
   "source": [
    "#### 5. KNeighborsRegressor"
   ]
  },
  {
   "cell_type": "code",
   "execution_count": 53,
   "id": "d7de9990",
   "metadata": {},
   "outputs": [
    {
     "name": "stdout",
     "output_type": "stream",
     "text": [
      "R2 Score:  0.7346031767183459\n",
      "R2 score on training data:  78.82063201876583\n",
      "Mean absolute error:  4013.981909949127\n",
      "Mean squared error:  40278198.89028044\n",
      "Root Mean squared error:  6346.510765001541\n"
     ]
    }
   ],
   "source": [
    "KNR = KNeighborsRegressor()\n",
    "KNR.fit(x_train,y_train)\n",
    "predKNR=KNR.predict(x_test)\n",
    "pred_train=KNR.predict(x_train)\n",
    "print(\"R2 Score: \", r2_score(y_test,predKNR))\n",
    "print(\"R2 score on training data: \", r2_score(y_train,pred_train)*100)\n",
    "print('Mean absolute error: ',mean_absolute_error(y_test, predKNR))\n",
    "print('Mean squared error: ',mean_squared_error(y_test, predKNR))\n",
    "print('Root Mean squared error: ',np.sqrt(mean_squared_error(y_test, predKNR)))"
   ]
  },
  {
   "cell_type": "markdown",
   "id": "010efbde",
   "metadata": {},
   "source": [
    "#### 6. Support Vector Regressor"
   ]
  },
  {
   "cell_type": "code",
   "execution_count": 54,
   "id": "eafd6ca4",
   "metadata": {},
   "outputs": [
    {
     "name": "stdout",
     "output_type": "stream",
     "text": [
      "R2 Score:  -0.07742064726385856\n",
      "R2 score on training data:  -9.195558247820191\n",
      "Mean absolute error:  8257.441128669783\n",
      "Mean squared error:  163515759.46684748\n",
      "Root Mean squared error:  12787.328081614527\n"
     ]
    }
   ],
   "source": [
    "SVRR = SVR(kernel='poly')\n",
    "SVRR.fit(x_train,y_train)\n",
    "predSVRR=SVRR.predict(x_test)\n",
    "pred_train=SVRR.predict(x_train)\n",
    "print(\"R2 Score: \", r2_score(y_test,predSVRR))\n",
    "print(\"R2 score on training data: \", r2_score(y_train,pred_train)*100)\n",
    "print('Mean absolute error: ',mean_absolute_error(y_test, predSVRR))\n",
    "print('Mean squared error: ',mean_squared_error(y_test, predSVRR))\n",
    "print('Root Mean squared error: ',np.sqrt(mean_squared_error(y_test, predSVRR)))"
   ]
  },
  {
   "cell_type": "markdown",
   "id": "a942ed8d",
   "metadata": {},
   "source": [
    "SVR is working badly on the dataset as the r2 score is negative with even different kernels."
   ]
  },
  {
   "cell_type": "markdown",
   "id": "0641fa21",
   "metadata": {},
   "source": [
    "#### 7. Lasso "
   ]
  },
  {
   "cell_type": "code",
   "execution_count": 55,
   "id": "83021e54",
   "metadata": {},
   "outputs": [
    {
     "name": "stdout",
     "output_type": "stream",
     "text": [
      "R2 Score:  0.7980428005310878\n",
      "R2 score on training data:  72.79581210650323\n",
      "Mean absolute error:  4007.90924454136\n",
      "Mean squared error:  30650224.621943288\n",
      "Root Mean squared error:  5536.264500720977\n"
     ]
    }
   ],
   "source": [
    "LAR = Lasso()\n",
    "LAR.fit(x_train,y_train)\n",
    "predLAR=LAR.predict(x_test)\n",
    "pred_train=LAR.predict(x_train)\n",
    "print(\"R2 Score: \", r2_score(y_test,predLAR))\n",
    "print(\"R2 score on training data: \", r2_score(y_train,pred_train)*100)\n",
    "print('Mean absolute error: ',mean_absolute_error(y_test, predLAR))\n",
    "print('Mean squared error: ',mean_squared_error(y_test, predLAR))\n",
    "print('Root Mean squared error: ',np.sqrt(mean_squared_error(y_test, predLAR)))"
   ]
  },
  {
   "cell_type": "markdown",
   "id": "6470acbc",
   "metadata": {},
   "source": [
    "#### 8. Ridge"
   ]
  },
  {
   "cell_type": "code",
   "execution_count": 56,
   "id": "db7e004b",
   "metadata": {},
   "outputs": [
    {
     "name": "stdout",
     "output_type": "stream",
     "text": [
      "R2 Score:  0.7977098729489578\n",
      "R2 score on training data:  72.78938829253705\n",
      "Mean absolute error:  4007.5573359302157\n",
      "Mean squared error:  30700751.690064445\n",
      "Root Mean squared error:  5540.825903244429\n"
     ]
    }
   ],
   "source": [
    "RR = Ridge()\n",
    "RR.fit(x_train,y_train)\n",
    "predRR=RR.predict(x_test)\n",
    "pred_train=RR.predict(x_train)\n",
    "print(\"R2 Score: \", r2_score(y_test,predRR))\n",
    "print(\"R2 score on training data: \", r2_score(y_train,pred_train)*100)\n",
    "print('Mean absolute error: ',mean_absolute_error(y_test, predRR))\n",
    "print('Mean squared error: ',mean_squared_error(y_test, predRR))\n",
    "print('Root Mean squared error: ',np.sqrt(mean_squared_error(y_test, predRR)))"
   ]
  },
  {
   "cell_type": "markdown",
   "id": "3a0fbcea",
   "metadata": {},
   "source": [
    "#### 9. ElasticNet"
   ]
  },
  {
   "cell_type": "code",
   "execution_count": 57,
   "id": "e258296e",
   "metadata": {},
   "outputs": [
    {
     "name": "stdout",
     "output_type": "stream",
     "text": [
      "R2 Score:  0.3045986791703258\n",
      "R2 score on training data:  28.920412751143953\n",
      "Mean absolute error:  7627.04766488269\n",
      "Mean squared error:  105538236.52672757\n",
      "Root Mean squared error:  10273.180448465197\n"
     ]
    }
   ],
   "source": [
    "ENR = ElasticNet()\n",
    "ENR.fit(x_train,y_train)\n",
    "predENR=ENR.predict(x_test)\n",
    "pred_train=ENR.predict(x_train)\n",
    "print(\"R2 Score: \", r2_score(y_test,predENR))\n",
    "print(\"R2 score on training data: \", r2_score(y_train,pred_train)*100)\n",
    "print('Mean absolute error: ',mean_absolute_error(y_test, predENR))\n",
    "print('Mean squared error: ',mean_squared_error(y_test, predENR))\n",
    "print('Root Mean squared error: ',np.sqrt(mean_squared_error(y_test, predENR)))"
   ]
  },
  {
   "cell_type": "markdown",
   "id": "c8993496",
   "metadata": {},
   "source": [
    "# Cross Validation to avoid overfitting and underfitting "
   ]
  },
  {
   "cell_type": "code",
   "execution_count": 58,
   "id": "32d67717",
   "metadata": {},
   "outputs": [
    {
     "name": "stdout",
     "output_type": "stream",
     "text": [
      "[0.76244722 0.7081777  0.77517256 0.73369035 0.75586661]\n",
      "0.7470708876548772\n",
      "Difference between R2 score and CV score is -  5.096514693557486\n"
     ]
    }
   ],
   "source": [
    "from sklearn.model_selection import cross_val_score\n",
    "score1=cross_val_score(LRR,x,y)\n",
    "print(score1)\n",
    "print(score1.mean())\n",
    "print(\"Difference between R2 score and CV score is - \", (r2_score(y_test,predLRR)-score1.mean())*100)\n",
    "s1=(r2_score(y_test,predLRR)-score1.mean())*100\n",
    "s11=(score1.mean())*100"
   ]
  },
  {
   "cell_type": "code",
   "execution_count": 59,
   "id": "3946538c",
   "metadata": {},
   "outputs": [
    {
     "name": "stdout",
     "output_type": "stream",
     "text": [
      "[0.85373669 0.77688618 0.86465883 0.82803921 0.85201628]\n",
      "0.8350674400128826\n",
      "Difference between R2 score and CV score is -  3.133864518100149\n"
     ]
    }
   ],
   "source": [
    "score2=cross_val_score(RFR,x,y)\n",
    "print(score2)\n",
    "print(score2.mean())\n",
    "print(\"Difference between R2 score and CV score is - \", (r2_score(y_test,predRFR)-score2.mean())*100)\n",
    "s2=(r2_score(y_test,predRFR)-score2.mean())*100\n",
    "s22=(score2.mean())*100"
   ]
  },
  {
   "cell_type": "code",
   "execution_count": 60,
   "id": "d948267a",
   "metadata": {},
   "outputs": [
    {
     "name": "stdout",
     "output_type": "stream",
     "text": [
      "[0.87327911 0.79658138 0.8912873  0.8502076  0.86068502]\n",
      "0.8544080817215074\n",
      "Difference between R2 score and CV score is -  4.281842880183184\n"
     ]
    }
   ],
   "source": [
    "score3=cross_val_score(GBR,x,y)\n",
    "print(score3)\n",
    "print(score3.mean())\n",
    "print(\"Difference between R2 score and CV score is - \", (r2_score(y_test,predGBR)-score3.mean())*100)\n",
    "s3=(r2_score(y_test,predGBR)-score3.mean())*100\n",
    "s33=(score3.mean())*100"
   ]
  },
  {
   "cell_type": "code",
   "execution_count": 61,
   "id": "4503ac1a",
   "metadata": {},
   "outputs": [
    {
     "name": "stdout",
     "output_type": "stream",
     "text": [
      "[0.75250753 0.63822741 0.69891309 0.72445401 0.67940594]\n",
      "0.6987015956880953\n",
      "Difference between R2 score and CV score is -  4.519200034200632\n"
     ]
    }
   ],
   "source": [
    "score4=cross_val_score(DTR,x,y)\n",
    "print(score4)\n",
    "print(score4.mean())\n",
    "print(\"Difference between R2 score and CV score is - \", (r2_score(y_test,predDTR)-score4.mean())*100)\n",
    "s4=(r2_score(y_test,predDTR)-score4.mean())*100\n",
    "s44=(score4.mean())*100"
   ]
  },
  {
   "cell_type": "code",
   "execution_count": 62,
   "id": "ee983524",
   "metadata": {},
   "outputs": [
    {
     "name": "stdout",
     "output_type": "stream",
     "text": [
      "[0.70446826 0.69286447 0.72029606 0.70648868 0.71371614]\n",
      "0.7075667230059922\n",
      "Difference between R2 score and CV score is -  2.7036453712353636\n"
     ]
    }
   ],
   "source": [
    "score5=cross_val_score(KNR,x,y)\n",
    "print(score5)\n",
    "print(score5.mean())\n",
    "print(\"Difference between R2 score and CV score is - \", (r2_score(y_test,predKNR)-score5.mean())*100)\n",
    "s5=(r2_score(y_test,predKNR)-score5.mean())*100\n",
    "s55=(score5.mean())*100"
   ]
  },
  {
   "cell_type": "code",
   "execution_count": 63,
   "id": "56b56086",
   "metadata": {},
   "outputs": [
    {
     "name": "stdout",
     "output_type": "stream",
     "text": [
      "[-0.09688575 -0.09737406 -0.06215334 -0.08992485 -0.0893999 ]\n",
      "-0.08714757954332963\n",
      "Difference between R2 score and CV score is -  0.9726932279471079\n"
     ]
    }
   ],
   "source": [
    "score6=cross_val_score(SVRR,x,y)\n",
    "print(score6)\n",
    "print(score6.mean())\n",
    "print(\"Difference between R2 score and CV score is - \", (r2_score(y_test,predSVRR)-score6.mean())*100)\n",
    "s6=(r2_score(y_test,predSVRR)-score6.mean())*100\n",
    "s66=(score6.mean())*100"
   ]
  },
  {
   "cell_type": "code",
   "execution_count": 64,
   "id": "e64e8ffb",
   "metadata": {},
   "outputs": [
    {
     "name": "stdout",
     "output_type": "stream",
     "text": [
      "[0.76243946 0.70826648 0.7751361  0.73369385 0.75587385]\n",
      "0.7470819460341585\n",
      "Difference between R2 score and CV score is -  5.096085449692933\n"
     ]
    }
   ],
   "source": [
    "score7=cross_val_score(LAR,x,y)\n",
    "print(score7)\n",
    "print(score7.mean())\n",
    "print(\"Difference between R2 score and CV score is - \", (r2_score(y_test,predLAR)-score7.mean())*100)\n",
    "s7=(r2_score(y_test,predLAR)-score7.mean())*100\n",
    "s77=(score7.mean())*100"
   ]
  },
  {
   "cell_type": "code",
   "execution_count": 65,
   "id": "5ea0f7db",
   "metadata": {},
   "outputs": [
    {
     "name": "stdout",
     "output_type": "stream",
     "text": [
      "[0.76225962 0.70913049 0.77435399 0.7339737  0.7556746 ]\n",
      "0.7470784785031941\n",
      "Difference between R2 score and CV score is -  5.06313944457637\n"
     ]
    }
   ],
   "source": [
    "score8=cross_val_score(RR,x,y)\n",
    "print(score8)\n",
    "print(score8.mean())\n",
    "print(\"Difference between R2 score and CV score is - \", (r2_score(y_test,predRR)-score8.mean())*100)\n",
    "s8=(r2_score(y_test,predRR)-score8.mean())*100\n",
    "s88=(score8.mean())*100"
   ]
  },
  {
   "cell_type": "code",
   "execution_count": 66,
   "id": "a5ee3536",
   "metadata": {},
   "outputs": [
    {
     "name": "stdout",
     "output_type": "stream",
     "text": [
      "[0.30017931 0.3060473  0.29441141 0.30030315 0.30252562]\n",
      "0.3006933578600963\n",
      "Difference between R2 score and CV score is -  0.39053213102294704\n"
     ]
    }
   ],
   "source": [
    "score9=cross_val_score(ENR,x,y)\n",
    "print(score9)\n",
    "print(score9.mean())\n",
    "print(\"Difference between R2 score and CV score is - \", (r2_score(y_test,predENR)-score9.mean())*100)\n",
    "s9=(r2_score(y_test,predENR)-score9.mean())*100\n",
    "s99=(score9.mean())*100"
   ]
  },
  {
   "cell_type": "code",
   "execution_count": 67,
   "id": "c3ab1c36",
   "metadata": {},
   "outputs": [
    {
     "data": {
      "text/html": [
       "<div>\n",
       "<style scoped>\n",
       "    .dataframe tbody tr th:only-of-type {\n",
       "        vertical-align: middle;\n",
       "    }\n",
       "\n",
       "    .dataframe tbody tr th {\n",
       "        vertical-align: top;\n",
       "    }\n",
       "\n",
       "    .dataframe thead th {\n",
       "        text-align: right;\n",
       "    }\n",
       "</style>\n",
       "<table border=\"1\" class=\"dataframe\">\n",
       "  <thead>\n",
       "    <tr style=\"text-align: right;\">\n",
       "      <th></th>\n",
       "      <th>Models</th>\n",
       "      <th>CV mean</th>\n",
       "      <th>difference btw r2 and cv</th>\n",
       "    </tr>\n",
       "  </thead>\n",
       "  <tbody>\n",
       "    <tr>\n",
       "      <th>0</th>\n",
       "      <td>LinearRegression</td>\n",
       "      <td>74.707089</td>\n",
       "      <td>5.096515</td>\n",
       "    </tr>\n",
       "    <tr>\n",
       "      <th>1</th>\n",
       "      <td>RandomForestRegressor</td>\n",
       "      <td>83.506744</td>\n",
       "      <td>3.133865</td>\n",
       "    </tr>\n",
       "    <tr>\n",
       "      <th>2</th>\n",
       "      <td>GradientBoostingRegressor</td>\n",
       "      <td>85.440808</td>\n",
       "      <td>4.281843</td>\n",
       "    </tr>\n",
       "    <tr>\n",
       "      <th>3</th>\n",
       "      <td>DecisionTreeRegressor</td>\n",
       "      <td>69.870160</td>\n",
       "      <td>4.519200</td>\n",
       "    </tr>\n",
       "    <tr>\n",
       "      <th>4</th>\n",
       "      <td>KNeighborsRegressor</td>\n",
       "      <td>70.756672</td>\n",
       "      <td>2.703645</td>\n",
       "    </tr>\n",
       "    <tr>\n",
       "      <th>5</th>\n",
       "      <td>SVR</td>\n",
       "      <td>-8.714758</td>\n",
       "      <td>0.972693</td>\n",
       "    </tr>\n",
       "    <tr>\n",
       "      <th>6</th>\n",
       "      <td>Lasso</td>\n",
       "      <td>74.708195</td>\n",
       "      <td>5.096085</td>\n",
       "    </tr>\n",
       "    <tr>\n",
       "      <th>7</th>\n",
       "      <td>Ridge</td>\n",
       "      <td>74.707848</td>\n",
       "      <td>5.063139</td>\n",
       "    </tr>\n",
       "    <tr>\n",
       "      <th>8</th>\n",
       "      <td>ElasticNet</td>\n",
       "      <td>30.069336</td>\n",
       "      <td>0.390532</td>\n",
       "    </tr>\n",
       "  </tbody>\n",
       "</table>\n",
       "</div>"
      ],
      "text/plain": [
       "                      Models    CV mean  difference btw r2 and cv\n",
       "0           LinearRegression  74.707089                  5.096515\n",
       "1      RandomForestRegressor  83.506744                  3.133865\n",
       "2  GradientBoostingRegressor  85.440808                  4.281843\n",
       "3      DecisionTreeRegressor  69.870160                  4.519200\n",
       "4        KNeighborsRegressor  70.756672                  2.703645\n",
       "5                        SVR  -8.714758                  0.972693\n",
       "6                      Lasso  74.708195                  5.096085\n",
       "7                      Ridge  74.707848                  5.063139\n",
       "8                 ElasticNet  30.069336                  0.390532"
      ]
     },
     "execution_count": 67,
     "metadata": {},
     "output_type": "execute_result"
    }
   ],
   "source": [
    "diction={'Models':['LinearRegression','RandomForestRegressor','GradientBoostingRegressor','DecisionTreeRegressor','KNeighborsRegressor','SVR','Lasso','Ridge','ElasticNet'],'CV mean':[s11,s22,s33,s44,s55,s66,s77,s88,s99],'difference btw r2 and cv':[s1,s2,s3,s4,s5,s6,s7,s8,s9]}\n",
    "dcvmrm=pd.DataFrame(diction)\n",
    "dcvmrm"
   ]
  },
  {
   "cell_type": "markdown",
   "id": "6a34bf69",
   "metadata": {},
   "source": [
    "Compairing the Cross validation and difference between r2 and cv mean, there are 2 best models\n",
    "1. Random forest Regressor \n",
    "2. Gradient Boosting Regressor"
   ]
  },
  {
   "cell_type": "code",
   "execution_count": 69,
   "id": "8003805f",
   "metadata": {},
   "outputs": [
    {
     "data": {
      "text/plain": [
       "<AxesSubplot:ylabel='CV mean'>"
      ]
     },
     "execution_count": 69,
     "metadata": {},
     "output_type": "execute_result"
    },
    {
     "data": {
      "image/png": "[encoded data removed]",
      "text/plain": [
       "<Figure size 1440x720 with 1 Axes>"
      ]
     },
     "metadata": {
      "needs_background": "light"
     },
     "output_type": "display_data"
    }
   ],
   "source": [
    "plt.figure(figsize=(20,10))\n",
    "sns.barplot(y=dcvmrm['CV mean'],x=dcvmrm.index,data=dcvmrm)"
   ]
  },
  {
   "cell_type": "code",
   "execution_count": 70,
   "id": "064f4bf3",
   "metadata": {},
   "outputs": [
    {
     "data": {
      "text/plain": [
       "<AxesSubplot:ylabel='difference btw r2 and cv'>"
      ]
     },
     "execution_count": 70,
     "metadata": {},
     "output_type": "execute_result"
    },
    {
     "data": {
      "image/png": "[encoded data removed]",
      "text/plain": [
       "<Figure size 1440x720 with 1 Axes>"
      ]
     },
     "metadata": {
      "needs_background": "light"
     },
     "output_type": "display_data"
    }
   ],
   "source": [
    "plt.figure(figsize=(20,10))\n",
    "sns.barplot(y=dcvmrm['difference btw r2 and cv'],x=dcvmrm.index,data=dcvmrm)"
   ]
  },
  {
   "cell_type": "markdown",
   "id": "fb9aa25e",
   "metadata": {},
   "source": [
    "The above is the graphical representation"
   ]
  },
  {
   "cell_type": "markdown",
   "id": "4a7b4b84",
   "metadata": {},
   "source": [
    "# Hyper Parameter Tunning"
   ]
  },
  {
   "cell_type": "markdown",
   "id": "e82e67e8",
   "metadata": {},
   "source": [
    "#### Random Forest Regressor"
   ]
  },
  {
   "cell_type": "code",
   "execution_count": 72,
   "id": "9e60637e",
   "metadata": {},
   "outputs": [
    {
     "data": {
      "text/plain": [
       "GridSearchCV(cv=5, estimator=RandomForestRegressor(),\n",
       "             param_grid={'bootstrap': [True, False],\n",
       "                         'max_depth': [10, 20, 30, 40, 50, 60, 70, 80, 90, 100,\n",
       "                                       None],\n",
       "                         'max_features': ['auto', 'sqrt'],\n",
       "                         'min_samples_leaf': [1, 2, 4],\n",
       "                         'min_samples_split': [2, 5, 10],\n",
       "                         'n_estimators': [50, 100, 150, 200, 250, 300, 350, 400,\n",
       "                                          500]})"
      ]
     },
     "execution_count": 72,
     "metadata": {},
     "output_type": "execute_result"
    }
   ],
   "source": [
    "from sklearn.model_selection import GridSearchCV\n",
    "parameters={'bootstrap': [True, False],\n",
    " 'max_depth': [10,30, 50, 70, 90, 100, None],\n",
    " 'max_features': ['auto', 'sqrt'],\n",
    " 'min_samples_leaf': [1, 2, 4],\n",
    " 'min_samples_split': [2, 5, 10],\n",
    " 'n_estimators': [100, 200, 300, 350, 400, 500]}\n",
    "GCV=GridSearchCV(RFR,parameters,cv=5)\n",
    "GCV.fit(x_train,y_train)"
   ]
  },
  {
   "cell_type": "code",
   "execution_count": 73,
   "id": "f7326465",
   "metadata": {},
   "outputs": [
    {
     "name": "stdout",
     "output_type": "stream",
     "text": [
      "{'bootstrap': True, 'max_depth': 50, 'max_features': 'auto', 'min_samples_leaf': 4, 'min_samples_split': 10, 'n_estimators': 350}\n",
      "0.8298561498203437\n"
     ]
    }
   ],
   "source": [
    "best_parameters = GCV.best_params_\n",
    "print(best_parameters)\n",
    "best_result=GCV.best_score_\n",
    "print(best_result)"
   ]
  },
  {
   "cell_type": "code",
   "execution_count": 74,
   "id": "2db86880",
   "metadata": {},
   "outputs": [
    {
     "name": "stdout",
     "output_type": "stream",
     "text": [
      "R2 Score:  0.8914403028449578\n",
      "Mean absolute error:  2502.9052990196333\n",
      "Mean squared error:  16475664.702433022\n",
      "Root Mean squared error:  4059.022628962916\n"
     ]
    }
   ],
   "source": [
    "Final_model1=RandomForestRegressor(bootstrap=True, max_depth=50, max_features='auto', min_samples_leaf=4, min_samples_split = 10, n_estimators = 350 )\n",
    "Final_model1.fit(x_train,y_train)\n",
    "pred1 = Final_model1.predict(x_test)\n",
    "print(\"R2 Score: \", r2_score(y_test,pred1))\n",
    "print('Mean absolute error: ',mean_absolute_error(y_test, pred1))\n",
    "print('Mean squared error: ',mean_squared_error(y_test, pred1))\n",
    "print('Root Mean squared error: ',np.sqrt(mean_squared_error(y_test, pred1)))"
   ]
  },
  {
   "cell_type": "markdown",
   "id": "f26a47d8",
   "metadata": {},
   "source": [
    "#### Gradient Boosting Regressor"
   ]
  },
  {
   "cell_type": "code",
   "execution_count": 75,
   "id": "e9249fac",
   "metadata": {},
   "outputs": [
    {
     "data": {
      "text/plain": [
       "GridSearchCV(estimator=GradientBoostingRegressor(),\n",
       "             param_grid={'learning_rate': [0.001, 0.01, 0.1],\n",
       "                         'max_depth': [1, 2, 4],\n",
       "                         'n_estimators': [100, 500, 1000],\n",
       "                         'random_state': [1, 2], 'subsample': [0.5, 0.75, 1]})"
      ]
     },
     "execution_count": 75,
     "metadata": {},
     "output_type": "execute_result"
    }
   ],
   "source": [
    "from sklearn.model_selection import GridSearchCV\n",
    "parameters={'n_estimators':[100,500,1000],\n",
    "            'learning_rate':[.001,0.01,.1],\n",
    "            'max_depth':[1,2,4],\n",
    "            'subsample':[.5,.75,1],\n",
    "            'random_state':[1,2]}\n",
    "GCV=GridSearchCV(GBR,parameters)\n",
    "GCV.fit(x_train,y_train)"
   ]
  },
  {
   "cell_type": "code",
   "execution_count": 76,
   "id": "4b218ea9",
   "metadata": {},
   "outputs": [
    {
     "name": "stdout",
     "output_type": "stream",
     "text": [
      "{'learning_rate': 0.01, 'max_depth': 2, 'n_estimators': 1000, 'random_state': 2, 'subsample': 0.75}\n",
      "0.8320817566975542\n"
     ]
    }
   ],
   "source": [
    "best_parameters = GCV.best_params_\n",
    "print(best_parameters)\n",
    "best_result=GCV.best_score_\n",
    "print(best_result)"
   ]
  },
  {
   "cell_type": "code",
   "execution_count": 77,
   "id": "2e96d58f",
   "metadata": {},
   "outputs": [
    {
     "name": "stdout",
     "output_type": "stream",
     "text": [
      "R2 Score:  0.9022213593418984\n",
      "Mean absolute error:  2321.5081803020657\n",
      "Mean squared error:  14839467.507373592\n",
      "Root Mean squared error:  3852.2029421324096\n"
     ]
    }
   ],
   "source": [
    "Final_model2=GradientBoostingRegressor(n_estimators=1000, learning_rate=0.01, max_depth=2, subsample=0.75, random_state = 2)\n",
    "Final_model2.fit(x_train,y_train)\n",
    "pred2 = Final_model2.predict(x_test)\n",
    "print(\"R2 Score: \", r2_score(y_test,pred2))\n",
    "print('Mean absolute error: ',mean_absolute_error(y_test, pred2))\n",
    "print('Mean squared error: ',mean_squared_error(y_test, pred2))\n",
    "print('Root Mean squared error: ',np.sqrt(mean_squared_error(y_test, pred2)))"
   ]
  },
  {
   "cell_type": "markdown",
   "id": "ae7742b7",
   "metadata": {},
   "source": [
    "The Best model is Gradient Boosting"
   ]
  },
  {
   "cell_type": "markdown",
   "id": "6ded51d3",
   "metadata": {},
   "source": [
    "# Saving the model"
   ]
  },
  {
   "cell_type": "code",
   "execution_count": 79,
   "id": "96199943",
   "metadata": {},
   "outputs": [],
   "source": [
    "import pickle\n",
    "filename='Insurancecost.pkl'\n",
    "pickle.dump(Final_model2,open(filename,'wb'))"
   ]
  },
  {
   "cell_type": "code",
   "execution_count": 80,
   "id": "0f119d16",
   "metadata": {},
   "outputs": [
    {
     "name": "stdout",
     "output_type": "stream",
     "text": [
      "90.22213593418984\n"
     ]
    }
   ],
   "source": [
    "loaded_model=pickle.load(open('Insurancecost.pkl','rb'))\n",
    "result=loaded_model.score(x_test,y_test)\n",
    "print(result*100)"
   ]
  },
  {
   "cell_type": "code",
   "execution_count": 81,
   "id": "b7174568",
   "metadata": {},
   "outputs": [
    {
     "data": {
      "text/html": [
       "<div>\n",
       "<style scoped>\n",
       "    .dataframe tbody tr th:only-of-type {\n",
       "        vertical-align: middle;\n",
       "    }\n",
       "\n",
       "    .dataframe tbody tr th {\n",
       "        vertical-align: top;\n",
       "    }\n",
       "\n",
       "    .dataframe thead th {\n",
       "        text-align: right;\n",
       "    }\n",
       "</style>\n",
       "<table border=\"1\" class=\"dataframe\">\n",
       "  <thead>\n",
       "    <tr style=\"text-align: right;\">\n",
       "      <th></th>\n",
       "      <th>Predicted</th>\n",
       "      <th>Original</th>\n",
       "    </tr>\n",
       "  </thead>\n",
       "  <tbody>\n",
       "    <tr>\n",
       "      <th>0</th>\n",
       "      <td>5469.727509</td>\n",
       "      <td>2842.76075</td>\n",
       "    </tr>\n",
       "    <tr>\n",
       "      <th>1</th>\n",
       "      <td>6663.978725</td>\n",
       "      <td>5227.98875</td>\n",
       "    </tr>\n",
       "    <tr>\n",
       "      <th>2</th>\n",
       "      <td>47910.577163</td>\n",
       "      <td>47896.79135</td>\n",
       "    </tr>\n",
       "    <tr>\n",
       "      <th>3</th>\n",
       "      <td>4850.159485</td>\n",
       "      <td>3659.34600</td>\n",
       "    </tr>\n",
       "    <tr>\n",
       "      <th>4</th>\n",
       "      <td>11717.442101</td>\n",
       "      <td>9866.30485</td>\n",
       "    </tr>\n",
       "    <tr>\n",
       "      <th>...</th>\n",
       "      <td>...</td>\n",
       "      <td>...</td>\n",
       "    </tr>\n",
       "    <tr>\n",
       "      <th>396</th>\n",
       "      <td>4101.766168</td>\n",
       "      <td>3180.51010</td>\n",
       "    </tr>\n",
       "    <tr>\n",
       "      <th>397</th>\n",
       "      <td>14430.664674</td>\n",
       "      <td>13470.86000</td>\n",
       "    </tr>\n",
       "    <tr>\n",
       "      <th>398</th>\n",
       "      <td>41456.864064</td>\n",
       "      <td>41097.16175</td>\n",
       "    </tr>\n",
       "    <tr>\n",
       "      <th>399</th>\n",
       "      <td>13770.799754</td>\n",
       "      <td>12094.47800</td>\n",
       "    </tr>\n",
       "    <tr>\n",
       "      <th>400</th>\n",
       "      <td>27153.487732</td>\n",
       "      <td>28868.66390</td>\n",
       "    </tr>\n",
       "  </tbody>\n",
       "</table>\n",
       "<p>401 rows × 2 columns</p>\n",
       "</div>"
      ],
      "text/plain": [
       "        Predicted     Original\n",
       "0     5469.727509   2842.76075\n",
       "1     6663.978725   5227.98875\n",
       "2    47910.577163  47896.79135\n",
       "3     4850.159485   3659.34600\n",
       "4    11717.442101   9866.30485\n",
       "..            ...          ...\n",
       "396   4101.766168   3180.51010\n",
       "397  14430.664674  13470.86000\n",
       "398  41456.864064  41097.16175\n",
       "399  13770.799754  12094.47800\n",
       "400  27153.487732  28868.66390\n",
       "\n",
       "[401 rows x 2 columns]"
      ]
     },
     "execution_count": 81,
     "metadata": {},
     "output_type": "execute_result"
    }
   ],
   "source": [
    "prediction=loaded_model.predict(x_test)\n",
    "a=np.array(y_test)\n",
    "df4=pd.DataFrame()\n",
    "df4[\"Predicted\"]=prediction\n",
    "df4[\"Original\"] = a\n",
    "df4"
   ]
  },
  {
   "cell_type": "code",
   "execution_count": null,
   "id": "0683a5ee",
   "metadata": {},
   "outputs": [],
   "source": []
  }
 ],
 "metadata": {
  "kernelspec": {
   "display_name": "Python 3 (ipykernel)",
   "language": "python",
   "name": "python3"
  },
  "language_info": {
   "codemirror_mode": {
    "name": "ipython",
    "version": 3
   },
   "file_extension": ".py",
   "mimetype": "text/x-python",
   "name": "python",
   "nbconvert_exporter": "python",
   "pygments_lexer": "ipython3",
   "version": "3.9.12"
  }
 },
 "nbformat": 4,
 "nbformat_minor": 5
}
